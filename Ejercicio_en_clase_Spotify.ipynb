{
  "nbformat": 4,
  "nbformat_minor": 0,
  "metadata": {
    "colab": {
      "provenance": [],
      "include_colab_link": true
    },
    "kernelspec": {
      "name": "python3",
      "display_name": "Python 3"
    },
    "language_info": {
      "name": "python"
    }
  },
  "cells": [
    {
      "cell_type": "markdown",
      "metadata": {
        "id": "view-in-github",
        "colab_type": "text"
      },
      "source": [
        "<a href=\"https://colab.research.google.com/github/Kmpillo/Class_Analitica/blob/main/Ejercicio_en_clase_Spotify.ipynb\" target=\"_parent\"><img src=\"https://colab.research.google.com/assets/colab-badge.svg\" alt=\"Open In Colab\"/></a>"
      ]
    },
    {
      "cell_type": "code",
      "execution_count": null,
      "metadata": {
        "id": "tPCzfivoAgkZ"
      },
      "outputs": [],
      "source": [
        "# Carque los datos de spotify\n"
      ]
    },
    {
      "cell_type": "markdown",
      "source": [
        "En este link puede ver una descripción de los datos: https://www.kaggle.com/datasets/maharshipandya/-spotify-tracks-dataset?resource=download"
      ],
      "metadata": {
        "id": "zpOLXTwNA11t"
      }
    },
    {
      "cell_type": "code",
      "source": [
        "# Muestre el nombre de las columnas\n"
      ],
      "metadata": {
        "id": "PMBIyrN4A0gQ"
      },
      "execution_count": null,
      "outputs": []
    },
    {
      "cell_type": "code",
      "source": [
        "# Muestre el tipo de las columnas\n"
      ],
      "metadata": {
        "id": "w8VIcXCdA_EB"
      },
      "execution_count": null,
      "outputs": []
    },
    {
      "cell_type": "code",
      "source": [
        "# Cuantas canciones hay con lenguaje explicito?\n"
      ],
      "metadata": {
        "id": "t9whbm81Bf0I"
      },
      "execution_count": null,
      "outputs": []
    },
    {
      "cell_type": "code",
      "source": [
        "# Cuales son las canciones más populares de su genero favorito?\n"
      ],
      "metadata": {
        "id": "8gLErZS1B1wk"
      },
      "execution_count": null,
      "outputs": []
    },
    {
      "cell_type": "code",
      "source": [
        "# Hay datos faltantes?\n"
      ],
      "metadata": {
        "id": "ehYBgIWtBp7L"
      },
      "execution_count": null,
      "outputs": []
    },
    {
      "cell_type": "code",
      "source": [
        "# Cual es el genero más bailable \"danceability\"?\n"
      ],
      "metadata": {
        "id": "4FnsdAowBBVS"
      },
      "execution_count": null,
      "outputs": []
    },
    {
      "cell_type": "code",
      "source": [
        "# Hay datos extremos?\n"
      ],
      "metadata": {
        "id": "PFYt42cIB8t4"
      },
      "execution_count": null,
      "outputs": []
    },
    {
      "cell_type": "code",
      "source": [
        "# Realice un gráfico con matplotlib e interpretelo\n"
      ],
      "metadata": {
        "id": "TNcUdHt0Ze3G"
      },
      "execution_count": null,
      "outputs": []
    },
    {
      "cell_type": "code",
      "source": [
        "# Realice un gráfico con seaborn e interpretelo\n"
      ],
      "metadata": {
        "id": "GIz7aFf1Zez8"
      },
      "execution_count": null,
      "outputs": []
    },
    {
      "cell_type": "code",
      "source": [
        "# Realice un gráfico con plotly e interpretelo\n"
      ],
      "metadata": {
        "id": "VSHjCytpZexP"
      },
      "execution_count": null,
      "outputs": []
    }
  ]
}