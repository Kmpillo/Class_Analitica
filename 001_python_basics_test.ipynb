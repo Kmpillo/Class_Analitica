{
  "cells": [
    {
      "cell_type": "markdown",
      "metadata": {
        "id": "nCpmdwJMgoQn"
      },
      "source": [
        "# Taller"
      ]
    },
    {
      "cell_type": "markdown",
      "metadata": {
        "id": "u1KtP3wLgoQo"
      },
      "source": [
        "Vamos a poner en práctica algunos de los conceptos recibidos en las sesiones anteriores\n",
        "\n",
        "*   Variables numéricas\n",
        "*   Variables de texto\n",
        "*   Rangos\n",
        "*   Listas\n",
        "*   Tuplas\n",
        "*   Diccionarios\n",
        "*   Condicionales\n",
        "*   Loops\n",
        "*   Funciones\n",
        "*   Lambda\n",
        "*   Funcion map\n",
        "*   Errores y excepciones\n"
      ]
    },
    {
      "cell_type": "markdown",
      "metadata": {
        "id": "XixmTEjsgoQo"
      },
      "source": [
        "IMPORTANTE:\n",
        "\n",
        "Todas las soluciones debe desarrollarlas creando una funcion que al ser ejecutada entregue respuesta a la solicitud"
      ]
    },
    {
      "cell_type": "markdown",
      "metadata": {
        "id": "816sX6IwgoQo"
      },
      "source": [
        "### 1 -  Escriba una funcion que sin necesidad tener alguna entrada entregue como salida una variable con el texto \"Hola mundo\"\n"
      ]
    },
    {
      "cell_type": "code",
      "execution_count": null,
      "metadata": {
        "id": "ROzAZxvmgoQp"
      },
      "outputs": [],
      "source": [
        "# en este espacio debe escribir la funcion solicitada\n",
        "def nombre_funcion():\n",
        "    return \"Hola mundo\""
      ]
    },
    {
      "cell_type": "code",
      "execution_count": null,
      "metadata": {
        "colab": {
          "base_uri": "https://localhost:8080/",
          "height": 35
        },
        "id": "9m1M26q0goQp",
        "outputId": "40dedb8a-e199-4f44-d4bc-49d7236c61b7"
      },
      "outputs": [
        {
          "output_type": "execute_result",
          "data": {
            "text/plain": [
              "'Hola mundo'"
            ],
            "application/vnd.google.colaboratory.intrinsic+json": {
              "type": "string"
            }
          },
          "metadata": {},
          "execution_count": 2
        }
      ],
      "source": [
        "# en este espacio debe hacer uso de la funcion diseñada para obtener la salida deseada\n",
        "# no haga uso de ninguna variable de entrada\n",
        "nombre_funcion()"
      ]
    },
    {
      "cell_type": "markdown",
      "metadata": {
        "id": "578yEzhMgoQp"
      },
      "source": [
        "### 2 - Escriba una funcion que reciba de entrada una palabra y que entregue como salida una variable con el texto \"ingreso la palabra *X_palabra* que posee *X_num* letras\".\n",
        "\n",
        "* Donde *X_palabra* es la palabra que se desea ingresar pero en MAYUSCULAS y *X_num* es la cantidad de letras que posee la palabra ingresada\n",
        "\n"
      ]
    },
    {
      "cell_type": "code",
      "execution_count": null,
      "metadata": {
        "id": "BU9aMBlZgoQp"
      },
      "outputs": [],
      "source": [
        "# en este espacio debe escribir la funcion solicitada\n",
        "def procesar_palabra(palabra):\n",
        "    palabra_mayusculas = palabra.upper()\n",
        "    num_letras = len(palabra)\n",
        "    resultado = f\"ingreso la palabra {palabra_mayusculas} que posee {num_letras} letras\"\n",
        "    #resultado = \"ingreso la palabra {} que posee {} letras\".format(palabra_mayusculas, num_letras)\n",
        "    #resultado = \"ingreso la palabra \" + palabra_mayusculas + \" que posee \" + str(num_letras) + \" letras\"\n",
        "    return print(resultado)"
      ]
    },
    {
      "cell_type": "code",
      "execution_count": null,
      "metadata": {
        "colab": {
          "base_uri": "https://localhost:8080/"
        },
        "id": "NyM7pygFgoQq",
        "outputId": "71a89fb2-cb58-4d74-8383-3f1f4e546b9c"
      },
      "outputs": [
        {
          "output_type": "stream",
          "name": "stdout",
          "text": [
            "ingreso la palabra PARALELEPIPEDO que posee 14 letras\n",
            "ingreso la palabra BRAZIL que posee 6 letras\n",
            "ingreso la palabra TICTAC que posee 6 letras\n"
          ]
        }
      ],
      "source": [
        "# en este espacio debe hacer uso de la funcion diseñada para obtener la salida deseada\n",
        "# haga uso de las siguientes variables de entrada para probar el funcionamiento del programa escrito con cada\n",
        "# \"paraLelepiPedo\"\n",
        "# \"Brazil\"\n",
        "# \"TicTac\"\n",
        "procesar_palabra(\"paraLelepiPedo\")\n",
        "procesar_palabra(\"Brazil\")\n",
        "procesar_palabra(\"TicTac\")"
      ]
    },
    {
      "cell_type": "markdown",
      "metadata": {
        "id": "yY6h-UJygoQq"
      },
      "source": [
        "### 3 Escriba una funcion que reciba de entrada una variable y que entregue como salida una variable con el texto \"la variable ingresada es un *X_clase*\".\n",
        "\n",
        "\n",
        "\n",
        "* Donde *X_clase* es el tipo de información que contiene la variable\n",
        "\n",
        "**Ejemplo**\n",
        "* la función recibe la variable var_txt que contiene la siguiente informacion \"luisito\" y la salida de la funcion será \"la variable es un <class 'str'>\"\n",
        "\n"
      ]
    },
    {
      "cell_type": "code",
      "source": [
        "# prompt: la función recibe la variable var_txt que contiene la siguiente informacion \"luisito\" y la salida de la funcion será \"la variable es un <class 'str'>\"\n",
        "\n",
        "def tipo_variable(variable):\n",
        "    tipo = str(type(variable))\n",
        "    resultado = f\"la variable ingresada es un {tipo}\"\n",
        "    return print(resultado)\n",
        "\n",
        "# Ejemplo de uso con la variable \"luisito\"\n",
        "var_txt = \"luisito\"\n",
        "tipo_variable(var_txt)\n"
      ],
      "metadata": {
        "colab": {
          "base_uri": "https://localhost:8080/"
        },
        "id": "VX3XI5EDLbOy",
        "outputId": "77d84bc8-de1d-4d5a-aee4-c1bf53264297"
      },
      "execution_count": null,
      "outputs": [
        {
          "output_type": "stream",
          "name": "stdout",
          "text": [
            "la variable ingresada es un <class 'str'>\n"
          ]
        }
      ]
    },
    {
      "cell_type": "code",
      "execution_count": null,
      "metadata": {
        "colab": {
          "base_uri": "https://localhost:8080/"
        },
        "id": "HGhka77MgoQq",
        "outputId": "a76ddb35-9727-4b86-eb3b-5d60734721f1"
      },
      "outputs": [
        {
          "output_type": "stream",
          "name": "stdout",
          "text": [
            "la variable ingresada es un <class 'int'>\n"
          ]
        }
      ],
      "source": [
        "# en este espacio debe hacer uso de la funcion diseñada para obtener la salida deseada\n",
        "# haga uso de las siguientes variables de entrada para probar el funcionamiento del programa escrito con cada\n",
        "# 2022\n",
        "# 2023.0616\n",
        "# \"Class\"\n",
        "tipo_variable(2022)"
      ]
    },
    {
      "cell_type": "markdown",
      "metadata": {
        "id": "AziuEZzNgoQq"
      },
      "source": [
        "### 4 - Escriba una funcion que de entrada reciba un numero de dias y que entregue como salida una variable con el texto \"Los X_num_dias corresponden a X_num_semanas semanas\"\n",
        "\n",
        "* Donde *X_num_dias* es el numero de dias ingresados y *X_num_semanas* es el numero de semanas calculado a partir de los dias\n"
      ]
    },
    {
      "cell_type": "code",
      "execution_count": null,
      "metadata": {
        "id": "TFAfw6NRgoQq"
      },
      "outputs": [],
      "source": [
        "# en este espacio debe escribir la funcion solicitada\n",
        "def semanas(dias):\n",
        "    operacion = round(dias / 7)\n",
        "    resultado = f\"Los {dias} días corresponden a {operacion} semanas\"\n",
        "    return print(resultado)"
      ]
    },
    {
      "cell_type": "code",
      "execution_count": null,
      "metadata": {
        "colab": {
          "base_uri": "https://localhost:8080/",
          "height": 35
        },
        "id": "M8Hdr1YrgoQq",
        "outputId": "3ca2e8db-0457-4402-f2f6-6f27a4af8996"
      },
      "outputs": [
        {
          "output_type": "execute_result",
          "data": {
            "text/plain": [
              "'Los 365 días corresponden a 52 semanas'"
            ],
            "application/vnd.google.colaboratory.intrinsic+json": {
              "type": "string"
            }
          },
          "metadata": {},
          "execution_count": 12
        }
      ],
      "source": [
        "# en este espacio debe hacer uso de la funcion diseñada para obtener la salida deseada\n",
        "# haga uso de las siguientes variables de entrada para probar el funcionamiento del programa escrito con cada\n",
        "# 2022\n",
        "# 365\n",
        "semanas(365)"
      ]
    },
    {
      "cell_type": "code",
      "source": [
        "semanas(1101)\n",
        "semanas(365)\n",
        "semanas(2022)"
      ],
      "metadata": {
        "colab": {
          "base_uri": "https://localhost:8080/"
        },
        "id": "xUrmFqMHPIsZ",
        "outputId": "60cb4ac8-52bf-458c-bd16-52bb79225b1e"
      },
      "execution_count": null,
      "outputs": [
        {
          "output_type": "stream",
          "name": "stdout",
          "text": [
            "Los 1101 días corresponden a 157 semanas\n",
            "Los 365 días corresponden a 52 semanas\n",
            "Los 2022 días corresponden a 289 semanas\n"
          ]
        }
      ]
    },
    {
      "cell_type": "markdown",
      "metadata": {
        "id": "PyEoBHCagoQr"
      },
      "source": [
        "### 5 - Escriba una funcion que de entrada reciba una lista de numeros y que entregue como salida una variable de numero con la multiplicacion de todos los numeros dentro de la lista\n"
      ]
    },
    {
      "cell_type": "code",
      "execution_count": null,
      "metadata": {
        "id": "6hdlldf-goQr"
      },
      "outputs": [],
      "source": [
        "# en este espacio debe escribir la funcion solicitada\n",
        "def multiplicacion(lista):\n",
        "  resultado = 1\n",
        "  for numero in lista:\n",
        "    print(resultado)\n",
        "    resultado = resultado * numero\n",
        "  return print(resultado)"
      ]
    },
    {
      "cell_type": "code",
      "source": [
        "def multiplicacion_while(lista):\n",
        "  resultado = 1\n",
        "  i = 0\n",
        "  while i < len(lista):\n",
        "    resultado = resultado * lista[i]\n",
        "    i = i + 1\n",
        "  return print(resultado)"
      ],
      "metadata": {
        "id": "LCM8DE-KQStT"
      },
      "execution_count": null,
      "outputs": []
    },
    {
      "cell_type": "code",
      "execution_count": null,
      "metadata": {
        "colab": {
          "base_uri": "https://localhost:8080/"
        },
        "id": "sVANR_1ogoQr",
        "outputId": "0fbd4cdc-3300-4ec8-d4b6-e200512a8bf7"
      },
      "outputs": [
        {
          "output_type": "stream",
          "name": "stdout",
          "text": [
            "362880\n",
            "362880\n",
            "2097152\n"
          ]
        }
      ],
      "source": [
        "# en este espacio debe hacer uso de la funcion diseñada para obtener la salida deseada\n",
        "# haga uso de las siguientes variables de entrada para probar el funcionamiento del programa escrito con cada\n",
        "# [1,2,3,4,5,6,7,8,9]\n",
        "# [9,7,5,3,1,2,4,6,8]\n",
        "# [1,2,4,8,16,32,64]\n",
        "multiplicacion([1,2,3,4,5,6,7,8,9])\n",
        "multiplicacion([9,7,5,3,1,2,4,6,8])\n",
        "multiplicacion([1,2,4,8,16,32,64])"
      ]
    },
    {
      "cell_type": "code",
      "source": [
        "multiplicacion([1,2,3,4,5,6,7,8,9])"
      ],
      "metadata": {
        "colab": {
          "base_uri": "https://localhost:8080/"
        },
        "id": "w-uqlPbqQ6u7",
        "outputId": "c8e9aab7-fcb9-4c4f-f644-c005285622cf"
      },
      "execution_count": null,
      "outputs": [
        {
          "output_type": "stream",
          "name": "stdout",
          "text": [
            "1\n",
            "1\n",
            "2\n",
            "6\n",
            "24\n",
            "120\n",
            "720\n",
            "5040\n",
            "40320\n",
            "362880\n"
          ]
        }
      ]
    },
    {
      "cell_type": "code",
      "source": [
        "multiplicacion_while([1,2,3,4,5,6,7,8,9])"
      ],
      "metadata": {
        "colab": {
          "base_uri": "https://localhost:8080/"
        },
        "id": "hcPf7Ih8QfyJ",
        "outputId": "c949767a-f473-47c5-c28c-1152dc685621"
      },
      "execution_count": null,
      "outputs": [
        {
          "output_type": "stream",
          "name": "stdout",
          "text": [
            "362880\n"
          ]
        }
      ]
    },
    {
      "cell_type": "markdown",
      "metadata": {
        "id": "66lj_QGogoQr"
      },
      "source": [
        "### 6 - Escriba una funcion que de entrada reciba una lista de numeros y que entregue como salida una variable de numero con el promedio redondeado con dos digitos de todos los numeros dentro de la lista\n"
      ]
    },
    {
      "cell_type": "code",
      "source": [
        "# creación o definición\n",
        "def ponerMayusculas(texto):\n",
        "  nuevo_texto = texto.upper()\n",
        "  return nuevo_texto"
      ],
      "metadata": {
        "id": "G86E0C0YrEPX"
      },
      "execution_count": null,
      "outputs": []
    },
    {
      "cell_type": "code",
      "source": [
        "ponerMayusculas('omar alexander muñoz')"
      ],
      "metadata": {
        "colab": {
          "base_uri": "https://localhost:8080/",
          "height": 35
        },
        "id": "RIpWds32rrCF",
        "outputId": "bbcf3d55-4a01-4612-8891-e64246327ed1"
      },
      "execution_count": null,
      "outputs": [
        {
          "output_type": "execute_result",
          "data": {
            "text/plain": [
              "'OMAR ALEXANDER MUÑOZ'"
            ],
            "application/vnd.google.colaboratory.intrinsic+json": {
              "type": "string"
            }
          },
          "metadata": {},
          "execution_count": 2
        }
      ]
    },
    {
      "cell_type": "code",
      "source": [
        "ponerMayusculas('sindy')"
      ],
      "metadata": {
        "colab": {
          "base_uri": "https://localhost:8080/",
          "height": 35
        },
        "id": "tFz0SGc0rwcf",
        "outputId": "ee608b42-6b4d-44f9-c728-a52c7937f159"
      },
      "execution_count": null,
      "outputs": [
        {
          "output_type": "execute_result",
          "data": {
            "text/plain": [
              "'SINDY'"
            ],
            "application/vnd.google.colaboratory.intrinsic+json": {
              "type": "string"
            }
          },
          "metadata": {},
          "execution_count": 3
        }
      ]
    },
    {
      "cell_type": "code",
      "execution_count": null,
      "metadata": {
        "id": "J5j4neXxgoQr"
      },
      "outputs": [],
      "source": [
        "# en este espacio debe escribir la funcion solicitada\n",
        "def promedioRedondeado(lista):\n",
        "  suma = 0\n",
        "  for numero in lista:\n",
        "    suma += numero\n",
        "  print(suma)\n",
        "  promedio = suma / len(lista)\n",
        "  print(promedio)\n",
        "  return round(promedio, 2)"
      ]
    },
    {
      "cell_type": "code",
      "execution_count": null,
      "metadata": {
        "id": "rt7UaqSZgoQr"
      },
      "outputs": [],
      "source": [
        "# en este espacio debe hacer uso de la funcion diseñada para obtener la salida deseada\n",
        "# haga uso de las siguientes variables de entrada para probar el funcionamiento del programa escrito con cada\n",
        "# [1,2,3,4,5,6,7,8,9]\n",
        "# [9,7,5,3,1,2,4,6,8]\n",
        "# [1,2,4,8,16,32,64]"
      ]
    },
    {
      "cell_type": "code",
      "source": [
        "promedioRedondeado([1,2,3,4,5,6,7,8,9])"
      ],
      "metadata": {
        "colab": {
          "base_uri": "https://localhost:8080/"
        },
        "id": "WvZjY7c-GDzd",
        "outputId": "91d9812e-8580-4820-8257-8450036d0d57"
      },
      "execution_count": null,
      "outputs": [
        {
          "output_type": "stream",
          "name": "stdout",
          "text": [
            "45\n",
            "5.0\n"
          ]
        },
        {
          "output_type": "execute_result",
          "data": {
            "text/plain": [
              "5.0"
            ]
          },
          "metadata": {},
          "execution_count": 17
        }
      ]
    },
    {
      "cell_type": "code",
      "source": [
        "promedioRedondeado([1,2,4,8,16,32,64])"
      ],
      "metadata": {
        "colab": {
          "base_uri": "https://localhost:8080/"
        },
        "id": "aj7LoXVGGM80",
        "outputId": "d8782fd6-531a-4c44-9c53-9d64150e58f1"
      },
      "execution_count": null,
      "outputs": [
        {
          "output_type": "stream",
          "name": "stdout",
          "text": [
            "127\n",
            "18.142857142857142\n"
          ]
        },
        {
          "output_type": "execute_result",
          "data": {
            "text/plain": [
              "18.14"
            ]
          },
          "metadata": {},
          "execution_count": 12
        }
      ]
    },
    {
      "cell_type": "code",
      "source": [
        "promedioRedondeado([9,7,5,3,1,2,4,6,8])"
      ],
      "metadata": {
        "colab": {
          "base_uri": "https://localhost:8080/"
        },
        "id": "rZB-qTmqGP6Z",
        "outputId": "bf2654a3-c6ad-4009-bf4e-b0de375b9555"
      },
      "execution_count": null,
      "outputs": [
        {
          "output_type": "stream",
          "name": "stdout",
          "text": [
            "45\n",
            "5.0\n"
          ]
        },
        {
          "output_type": "execute_result",
          "data": {
            "text/plain": [
              "5.0"
            ]
          },
          "metadata": {},
          "execution_count": 13
        }
      ]
    },
    {
      "cell_type": "markdown",
      "metadata": {
        "id": "OMyoOCMqgoQr"
      },
      "source": [
        "### 7 - Escriba una funcion que de entrada reciba una lista de numeros y que entregue como salida una variable de numero con la mediana de todos los numeros dentro de la lista\n"
      ]
    },
    {
      "cell_type": "code",
      "execution_count": null,
      "metadata": {
        "id": "3DkB7UCkgoQr"
      },
      "outputs": [],
      "source": [
        "# en este espacio debe escribir la funcion solicitada\n",
        "import statistics\n",
        "def medianaLista(lista):\n",
        "  mediana = statistics.median(lista)\n",
        "  return print(mediana)"
      ]
    },
    {
      "cell_type": "code",
      "source": [
        "def calcular_mediana(lista_numeros):\n",
        "    if lista_numeros:\n",
        "       lista_numeros.sort()\n",
        "    n = len(lista_numeros)\n",
        "    if n % 2 != 0:\n",
        "        return lista_numeros[n // 2]\n",
        "    else:\n",
        "        medio1 = lista_numeros[n // 2 - 1]\n",
        "        medio2 = lista_numeros[n // 2]\n",
        "        return (medio1 + medio2) / 2"
      ],
      "metadata": {
        "id": "w1GuSkWVykQc"
      },
      "execution_count": null,
      "outputs": []
    },
    {
      "cell_type": "code",
      "source": [
        "def calcular_mediana(lista_numeros):\n",
        "    lista_numeros.sort()\n",
        "    n = len(lista_numeros)\n",
        "    if n % 2 != 0:\n",
        "        mediana =  lista_numeros[n // 2]\n",
        "    else:\n",
        "        medio1 = lista_numeros[n // 2 - 1]\n",
        "        medio2 = lista_numeros[n // 2]\n",
        "        mediana =  (medio1 + medio2) / 2\n",
        "    return mediana"
      ],
      "metadata": {
        "id": "mASo50ZuzcYU"
      },
      "execution_count": null,
      "outputs": []
    },
    {
      "cell_type": "code",
      "execution_count": null,
      "metadata": {
        "colab": {
          "base_uri": "https://localhost:8080/"
        },
        "id": "UwnDVJlwgoQr",
        "outputId": "fd62bef8-b189-444d-cb3f-2428dcef3229"
      },
      "outputs": [
        {
          "output_type": "stream",
          "name": "stdout",
          "text": [
            "5\n"
          ]
        }
      ],
      "source": [
        "# en este espacio debe hacer uso de la funcion diseñada para obtener la salida deseada\n",
        "# haga uso de las siguientes variables de entrada para probar el funcionamiento del programa escrito con cada\n",
        "# [1,2,3,4,5,6,7,8,9]\n",
        "# [9,7,5,3,1,2,4,6,8]\n",
        "# [1,2,4,8,16,32,64]\n",
        "medianaLista([1,2,3,4,5,6,7,8,9])"
      ]
    },
    {
      "cell_type": "code",
      "source": [
        "medianaLista([9,7,5,3,1,2,4,6,8])"
      ],
      "metadata": {
        "colab": {
          "base_uri": "https://localhost:8080/"
        },
        "id": "eAG-NiW4y2Ug",
        "outputId": "386b1bf1-8825-4f7b-ad50-d3073f2841c9"
      },
      "execution_count": null,
      "outputs": [
        {
          "output_type": "stream",
          "name": "stdout",
          "text": [
            "5\n"
          ]
        }
      ]
    },
    {
      "cell_type": "code",
      "source": [
        "medianaLista([1,2,4,8,16,32,64])"
      ],
      "metadata": {
        "colab": {
          "base_uri": "https://localhost:8080/"
        },
        "id": "6Q4qch_8zFgk",
        "outputId": "11c0cc0e-cfd7-44d1-d5c2-013f59ca694f"
      },
      "execution_count": null,
      "outputs": [
        {
          "output_type": "stream",
          "name": "stdout",
          "text": [
            "8\n"
          ]
        }
      ]
    },
    {
      "cell_type": "code",
      "source": [
        "calcular_mediana([1,2,4,8,16,32,64])"
      ],
      "metadata": {
        "colab": {
          "base_uri": "https://localhost:8080/"
        },
        "id": "oh47RbnYzLcW",
        "outputId": "9fde2513-a2bc-4303-a538-f0fc6e2edff2"
      },
      "execution_count": null,
      "outputs": [
        {
          "output_type": "execute_result",
          "data": {
            "text/plain": [
              "8"
            ]
          },
          "metadata": {},
          "execution_count": 29
        }
      ]
    },
    {
      "cell_type": "code",
      "source": [
        "sorted([9,7,5,3,1,2,4,6,8])"
      ],
      "metadata": {
        "colab": {
          "base_uri": "https://localhost:8080/"
        },
        "id": "hUYkSYSUz3Ex",
        "outputId": "12a04527-3e6c-490b-cc86-776f85eb8160"
      },
      "execution_count": null,
      "outputs": [
        {
          "output_type": "execute_result",
          "data": {
            "text/plain": [
              "[1, 2, 3, 4, 5, 6, 7, 8, 9]"
            ]
          },
          "metadata": {},
          "execution_count": 30
        }
      ]
    },
    {
      "cell_type": "code",
      "source": [
        "sorted([9,7,5,3,1,2,4,6,8], reverse=True)"
      ],
      "metadata": {
        "colab": {
          "base_uri": "https://localhost:8080/"
        },
        "id": "XF5Kvo2C0It3",
        "outputId": "ddce70f8-9fc7-49b9-fce8-26113d3e82e7"
      },
      "execution_count": null,
      "outputs": [
        {
          "output_type": "execute_result",
          "data": {
            "text/plain": [
              "[9, 8, 7, 6, 5, 4, 3, 2, 1]"
            ]
          },
          "metadata": {},
          "execution_count": 31
        }
      ]
    },
    {
      "cell_type": "code",
      "source": [
        "sorted?"
      ],
      "metadata": {
        "id": "g6LDOmJu0Zqa"
      },
      "execution_count": null,
      "outputs": []
    },
    {
      "cell_type": "code",
      "source": [
        "lista_numeros = [9,7,5,3,1,2,4,6,8]\n",
        "lista_numeros.sort(reverse=True)\n",
        "lista_numeros"
      ],
      "metadata": {
        "colab": {
          "base_uri": "https://localhost:8080/"
        },
        "id": "h8r5Ye1T0N31",
        "outputId": "789174dc-770d-4caa-ac31-e2a9f7fcb083"
      },
      "execution_count": null,
      "outputs": [
        {
          "output_type": "execute_result",
          "data": {
            "text/plain": [
              "[9, 8, 7, 6, 5, 4, 3, 2, 1]"
            ]
          },
          "metadata": {},
          "execution_count": 39
        }
      ]
    },
    {
      "cell_type": "markdown",
      "metadata": {
        "id": "PVHy4jSPgoQs"
      },
      "source": [
        "### 8 - Escriba una funcion que de entrada reciba una lista de numeros y que entregue como salida una tupla con la cantidad de numeros con dentro de la lista, el número más pequeño y el número más grande\n"
      ]
    },
    {
      "cell_type": "code",
      "execution_count": null,
      "metadata": {
        "id": "AV8NGcJZgoQs"
      },
      "outputs": [],
      "source": [
        "# en este espacio debe escribir la funcion solicitada\n",
        "def m_m(l):\n",
        "  M=max(l)\n",
        "  m=min(l)\n",
        "  return print(\"Max:\",(M), \"Min:\",(m))"
      ]
    },
    {
      "cell_type": "code",
      "source": [
        "def min_max(lista_numeros):\n",
        "    lista_numeros.sort()\n",
        "    min = lista_numeros[0]\n",
        "    max = lista_numeros[-1]\n",
        "    largo = len(lista_numeros)\n",
        "    return largo, min, max"
      ],
      "metadata": {
        "id": "dJ-NIRs01T2s"
      },
      "execution_count": null,
      "outputs": []
    },
    {
      "cell_type": "code",
      "execution_count": null,
      "metadata": {
        "colab": {
          "base_uri": "https://localhost:8080/"
        },
        "id": "cdVKSOCBgoQs",
        "outputId": "95214f6d-0b64-47bb-f3d7-1eb8da36d2b5"
      },
      "outputs": [
        {
          "output_type": "stream",
          "name": "stdout",
          "text": [
            "Max: 9 Min: 1\n",
            "Max: 9 Min: 1\n",
            "Max: 64 Min: 1\n"
          ]
        }
      ],
      "source": [
        "# en este espacio debe hacer uso de la funcion diseñada para obtener la salida deseada\n",
        "# haga uso de las siguientes variables de entrada para probar el funcionamiento del programa escrito con cada\n",
        "# [1,2,3,4,5,6,7,8,9]\n",
        "# [9,7,5,3,1,2,4,6,8]\n",
        "# [1,2,4,8,16,32,64]\n",
        "m_m([1,2,3,4,5,6,7,8,9])\n",
        "m_m([9,7,5,3,1,2,4,6,8])\n",
        "m_m([1,2,4,8,16,32,64])"
      ]
    },
    {
      "cell_type": "code",
      "source": [
        "min_max([9,7,5,3,1,2,4,6,8, 20, 30])"
      ],
      "metadata": {
        "colab": {
          "base_uri": "https://localhost:8080/"
        },
        "id": "6W22vUdI1mTR",
        "outputId": "1151677a-2e2b-4297-d5db-cdc41cc6e6b4"
      },
      "execution_count": null,
      "outputs": [
        {
          "output_type": "execute_result",
          "data": {
            "text/plain": [
              "(11, 1, 30)"
            ]
          },
          "metadata": {},
          "execution_count": 46
        }
      ]
    },
    {
      "cell_type": "markdown",
      "metadata": {
        "id": "ATGZynjmgoQs"
      },
      "source": [
        "### 9 - Escriba una funcion que de entrada reciba una lista de palabras y que entregue como salida la cantidad de intentos realizados para encontrar una palabra que inicie por alguna vocal"
      ]
    },
    {
      "cell_type": "code",
      "execution_count": null,
      "metadata": {
        "id": "bSt_73nogoQs",
        "colab": {
          "base_uri": "https://localhost:8080/"
        },
        "outputId": "c313d583-0131-4388-e7a6-9b83c9f45993"
      },
      "outputs": [
        {
          "output_type": "stream",
          "name": "stdout",
          "text": [
            "2\n",
            "5\n",
            "6\n",
            "11\n",
            "12\n",
            "13\n"
          ]
        }
      ],
      "source": [
        "# en este espacio debe escribir la funcion solicitada\n",
        "lista_ejemplo = ['Hugo','ivan','Juan','Lara','Ana','Enzo','Leo','Luz','Mar','Nora','Angela','Eric','Eva','Raul','Sara']\n",
        "intentos = 0\n",
        "for elemento in lista_ejemplo:\n",
        "  intentos += 1\n",
        "  if elemento.upper().startswith(('A', 'E', 'I', 'O', 'U')):\n",
        "    print(intentos)"
      ]
    },
    {
      "cell_type": "code",
      "source": [
        "def primeraVocal(lista):\n",
        "  intentos = 0\n",
        "  for elemento in lista:\n",
        "    intentos += 1\n",
        "    if elemento.upper().startswith(('A', 'E', 'I', 'O', 'U')):\n",
        "      return intentos"
      ],
      "metadata": {
        "id": "CJ8s4Thy3Ve1"
      },
      "execution_count": null,
      "outputs": []
    },
    {
      "cell_type": "code",
      "execution_count": null,
      "metadata": {
        "colab": {
          "base_uri": "https://localhost:8080/"
        },
        "id": "cYxta8cWgoQs",
        "outputId": "46989a9f-cc42-428c-bec9-6ea66c8649c2"
      },
      "outputs": [
        {
          "output_type": "execute_result",
          "data": {
            "text/plain": [
              "7"
            ]
          },
          "metadata": {},
          "execution_count": 54
        }
      ],
      "source": [
        "# en este espacio debe hacer uso de la funcion diseñada para obtener la salida deseada\n",
        "# haga uso de las siguientes variables de entrada para probar el funcionamiento del programa escrito con cada\n",
        "# ['Hugo','Ivan','Juan','Lara','Ana','Enzo','Leo','Luz','Mar','Nora','Angela','Eric','Eva','Raul','Sara']\n",
        "# ['Juan','Lara','Leo','Luz','Mar','Nora','Uriel','Eric','Sara']\n",
        "# ['Hugo','Juan','Lara','Ana','Enzo','Leo','Luz','Mar','Ignacio','Nora','Eric','Eva','Raul','Sara']\n",
        "primeraVocal(['Juan','Lara','Leo','Luz','Mar','Nora','Uriel','Eric','Sara'])"
      ]
    },
    {
      "cell_type": "code",
      "source": [
        "primeraVocal(['Hugo','Juan','Lara','Ana','Enzo','Leo','Luz','Mar','Ignacio','Nora','Eric','Eva','Raul','Sara'])"
      ],
      "metadata": {
        "colab": {
          "base_uri": "https://localhost:8080/"
        },
        "id": "1A6gRobE4GNA",
        "outputId": "0ba74bba-bd8f-4e04-d278-2d9589c0afc6"
      },
      "execution_count": null,
      "outputs": [
        {
          "output_type": "execute_result",
          "data": {
            "text/plain": [
              "4"
            ]
          },
          "metadata": {},
          "execution_count": 55
        }
      ]
    },
    {
      "cell_type": "markdown",
      "metadata": {
        "id": "4PiPaDtagoQs"
      },
      "source": [
        "### 10 - Escriba una funcion que de entrada reciba una lista de palabras y que entregue como salida la cantidad de intentos realizados para encontrar la primera palabra de la lista que no solo inicie por alguna vocal sino que la cnatidad de letras de esa palabra encontrada sea de por lo menos cinco letras"
      ]
    },
    {
      "cell_type": "code",
      "execution_count": null,
      "metadata": {
        "id": "Xip_gR7_goQs"
      },
      "outputs": [],
      "source": [
        "# en este espacio debe escribir la funcion solicitada\n",
        "def primeraVocal_cinco(lista):\n",
        "  intentos = 0\n",
        "  for elemento in lista:\n",
        "    intentos += 1\n",
        "    largo = len(elemento)\n",
        "    if elemento.upper().startswith(('A', 'E', 'I', 'O', 'U')):\n",
        "      if largo >= 5:\n",
        "        return intentos"
      ]
    },
    {
      "cell_type": "code",
      "source": [
        "def primeraVocal_cinco(lista):\n",
        "  intentos = 0\n",
        "  for elemento in lista:\n",
        "    intentos += 1\n",
        "    largo = len(elemento)\n",
        "    if elemento.upper().startswith(('A', 'E', 'I', 'O', 'U')) and largo >= 5:\n",
        "      return intentos"
      ],
      "metadata": {
        "id": "oP7Yazbn5LZD"
      },
      "execution_count": null,
      "outputs": []
    },
    {
      "cell_type": "code",
      "source": [
        "# listas = []\n",
        "# diccionarios = {}\n",
        "# tuplas = ()"
      ],
      "metadata": {
        "id": "m2ayhoPa4dSa"
      },
      "execution_count": null,
      "outputs": []
    },
    {
      "cell_type": "code",
      "execution_count": null,
      "metadata": {
        "id": "PU28uLBxgoQs",
        "colab": {
          "base_uri": "https://localhost:8080/"
        },
        "outputId": "b4f7ddf1-b8a7-4ae5-a024-af938ef9645f"
      },
      "outputs": [
        {
          "output_type": "execute_result",
          "data": {
            "text/plain": [
              "11"
            ]
          },
          "metadata": {},
          "execution_count": 57
        }
      ],
      "source": [
        "# en este espacio debe hacer uso de la funcion diseñada para obtener la salida deseada\n",
        "# haga uso de las siguientes variables de entrada para probar el funcionamiento del programa escrito con cada\n",
        "# ['Hugo','Ivan','Juan','Lara','Ana','Enzo','Leo','Luz','Mar','Nora','Angela','Eric','Eva','Raul','Sara']\n",
        "# ['Juan','Lara','Leo','Luz','Mar','Nora','Uriel','Eric','Sara']\n",
        "# ['Hugo','Juan','Lara','Ana','Enzo','Leo','Luz','Mar','Ignacio','Nora','Eric','Eva','Raul','Sara']\n",
        "primeraVocal_cinco(['Hugo','Ivan','Juan','Lara','Ana','Enzo','Leo','Luz','Mar','Nora','Angela','Eric','Eva','Raul','Sara'])"
      ]
    },
    {
      "cell_type": "code",
      "source": [
        "txt_input = input(\"Escriba un nombre: \") # escribe mnensaje en pantalla para esperar entrada del usuario\n",
        "print(txt_input)"
      ],
      "metadata": {
        "colab": {
          "base_uri": "https://localhost:8080/"
        },
        "id": "1SO3Hvuz6JEh",
        "outputId": "4e1bbed0-ea35-4581-de93-5d3861c63734"
      },
      "execution_count": null,
      "outputs": [
        {
          "output_type": "stream",
          "name": "stdout",
          "text": [
            "Escriba un nombre: ana\n",
            "ana\n"
          ]
        }
      ]
    },
    {
      "cell_type": "code",
      "source": [
        "intentos = 0\n",
        "txt_input = 'h'\n",
        "while not txt_input.upper().startswith(('A', 'E', 'I', 'O', 'U')):\n",
        "  intentos += 1\n",
        "  txt_input = input(\"Escriba un nombre: \")\n",
        "  largo = len(txt_input)\n",
        "  while largo < 5:\n",
        "    intentos += 1\n",
        "    txt_input = input(\"Escriba un nombre: \")\n",
        "    largo = len(txt_input)\n",
        "print(intentos)"
      ],
      "metadata": {
        "colab": {
          "base_uri": "https://localhost:8080/"
        },
        "id": "F6imP4jV6V_1",
        "outputId": "f0269c91-6d32-4c66-e5f5-8c22d6d34e6b"
      },
      "execution_count": null,
      "outputs": [
        {
          "output_type": "stream",
          "name": "stdout",
          "text": [
            "Escriba un nombre: ana\n",
            "Escriba un nombre: camilo\n",
            "Escriba un nombre: angela\n",
            "3\n"
          ]
        }
      ]
    },
    {
      "cell_type": "code",
      "source": [
        "txt_input = 'hola'\n",
        "if not txt_input.upper().startswith(('A', 'E', 'I', 'O', 'U')):\n",
        "  print(txt_input)"
      ],
      "metadata": {
        "colab": {
          "base_uri": "https://localhost:8080/"
        },
        "id": "7uDkJkhs7c9w",
        "outputId": "769acb89-ce22-4146-b451-e9c8c1963487"
      },
      "execution_count": null,
      "outputs": [
        {
          "output_type": "stream",
          "name": "stdout",
          "text": [
            "hola\n"
          ]
        }
      ]
    }
  ],
  "metadata": {
    "kernelspec": {
      "display_name": "Python 3",
      "language": "python",
      "name": "python3"
    },
    "language_info": {
      "codemirror_mode": {
        "name": "ipython",
        "version": 3
      },
      "file_extension": ".py",
      "mimetype": "text/x-python",
      "name": "python",
      "nbconvert_exporter": "python",
      "pygments_lexer": "ipython3",
      "version": "3.9.13"
    },
    "orig_nbformat": 4,
    "colab": {
      "provenance": []
    }
  },
  "nbformat": 4,
  "nbformat_minor": 0
}