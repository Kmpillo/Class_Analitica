{
  "cells": [
    {
      "cell_type": "markdown",
      "source": [
        "Modelos de analítica UNICAFAM"
      ],
      "metadata": {
        "id": "sUMxFynlDxG4"
      }
    },
    {
      "cell_type": "markdown",
      "metadata": {
        "id": "JotXunZRIClk"
      },
      "source": [
        "# BASES DE PYTHON\n",
        "\n",
        "*   Variables\n",
        "*   Variables numéricas\n",
        "*   Variables de texto\n",
        "*   Rangos\n",
        "*   Listas\n",
        "*   Diccionarios\n",
        "*   Condicionales\n",
        "*   Loops\n",
        "*   Funciones\n",
        "*   Errores y excepciones\n",
        "*   Bibliografía\n"
      ]
    },
    {
      "cell_type": "code",
      "source": [
        "1+1"
      ],
      "metadata": {
        "colab": {
          "base_uri": "https://localhost:8080/"
        },
        "id": "Pw-bTeX4EHG1",
        "outputId": "99d45aa8-de1a-4c48-b0a4-4197b7c84a46"
      },
      "execution_count": null,
      "outputs": [
        {
          "output_type": "execute_result",
          "data": {
            "text/plain": [
              "2"
            ]
          },
          "metadata": {},
          "execution_count": 1
        }
      ]
    },
    {
      "cell_type": "code",
      "source": [
        "2+2 # mayus+enter o ctrl+enter"
      ],
      "metadata": {
        "colab": {
          "base_uri": "https://localhost:8080/"
        },
        "id": "dpoZ2lH0ELuj",
        "outputId": "acb82250-2c51-4f1f-f987-1ba7d82b2027"
      },
      "execution_count": null,
      "outputs": [
        {
          "output_type": "execute_result",
          "data": {
            "text/plain": [
              "4"
            ]
          },
          "metadata": {},
          "execution_count": 7
        }
      ]
    },
    {
      "cell_type": "code",
      "execution_count": null,
      "metadata": {
        "id": "4EjsHgv9SXDJ"
      },
      "outputs": [],
      "source": [
        "# Comentarios\n",
        "# Todo lo que este a la derecha \"#\" no se ejecuta"
      ]
    },
    {
      "cell_type": "code",
      "execution_count": null,
      "metadata": {
        "id": "sL49dE6nSXDK",
        "colab": {
          "base_uri": "https://localhost:8080/"
        },
        "outputId": "9a3ee136-1a90-491e-8ef0-644ed7c6115b"
      },
      "outputs": [
        {
          "output_type": "execute_result",
          "data": {
            "text/plain": [
              "160"
            ]
          },
          "metadata": {},
          "execution_count": 10
        }
      ],
      "source": [
        "40*4"
      ]
    },
    {
      "cell_type": "markdown",
      "metadata": {
        "id": "NjozzhYC6Lwn"
      },
      "source": [
        "## Variables"
      ]
    },
    {
      "cell_type": "markdown",
      "metadata": {
        "id": "jQalsqZ48ND_"
      },
      "source": [
        "**Reglas para la creación de variables**\\\n",
        "* El nombre de una variable **debe comenzar** con una letra ó con _.\\\n",
        "* El nombre de una variable **no puede comenzar** con un número.\n",
        "* El nombre de una variable **sólo puede contener** carácteres alfa-numéricos.\n",
        "* El nombre de una variable tiene **sensibilidad a mayúsculas y minúsculas** (x es diferente de X)."
      ]
    },
    {
      "cell_type": "code",
      "source": [
        "x = 1"
      ],
      "metadata": {
        "id": "4TmzLG9weJ3b"
      },
      "execution_count": null,
      "outputs": []
    },
    {
      "cell_type": "code",
      "source": [
        "x+x+x"
      ],
      "metadata": {
        "id": "myIeMP1jkVue",
        "colab": {
          "base_uri": "https://localhost:8080/"
        },
        "outputId": "de986edf-318f-497f-cf99-8c665680304a"
      },
      "execution_count": null,
      "outputs": [
        {
          "output_type": "execute_result",
          "data": {
            "text/plain": [
              "3"
            ]
          },
          "metadata": {},
          "execution_count": 12
        }
      ]
    },
    {
      "cell_type": "code",
      "source": [
        "X = 9"
      ],
      "metadata": {
        "id": "mq9dtKkQGqYp"
      },
      "execution_count": null,
      "outputs": []
    },
    {
      "cell_type": "code",
      "source": [
        "x+X"
      ],
      "metadata": {
        "colab": {
          "base_uri": "https://localhost:8080/"
        },
        "id": "GXx9ZdbNGsBg",
        "outputId": "5c3d555a-ec1e-4d35-fd6a-f42e87eb4803"
      },
      "execution_count": null,
      "outputs": [
        {
          "output_type": "execute_result",
          "data": {
            "text/plain": [
              "10"
            ]
          },
          "metadata": {},
          "execution_count": 19
        }
      ]
    },
    {
      "cell_type": "code",
      "source": [
        "y = \"Hola Mundo\""
      ],
      "metadata": {
        "id": "9NyxEArsejme"
      },
      "execution_count": null,
      "outputs": []
    },
    {
      "cell_type": "code",
      "source": [
        "y, y"
      ],
      "metadata": {
        "colab": {
          "base_uri": "https://localhost:8080/"
        },
        "id": "pT0mDK7nGZrB",
        "outputId": "8c486d30-2199-4a46-dda8-7da342036505"
      },
      "execution_count": null,
      "outputs": [
        {
          "output_type": "execute_result",
          "data": {
            "text/plain": [
              "('Hola Mundo', 'Hola Mundo')"
            ]
          },
          "metadata": {},
          "execution_count": 15
        }
      ]
    },
    {
      "cell_type": "code",
      "source": [
        "variable = 10"
      ],
      "metadata": {
        "id": "iHaJJXArGv7Y"
      },
      "execution_count": null,
      "outputs": []
    },
    {
      "cell_type": "code",
      "source": [
        "variable*variable"
      ],
      "metadata": {
        "colab": {
          "base_uri": "https://localhost:8080/"
        },
        "id": "DPnzFK4OG3VC",
        "outputId": "fd4bb870-4cd0-40b0-9e6f-001fb4aeee44"
      },
      "execution_count": null,
      "outputs": [
        {
          "output_type": "execute_result",
          "data": {
            "text/plain": [
              "100"
            ]
          },
          "metadata": {},
          "execution_count": 22
        }
      ]
    },
    {
      "cell_type": "code",
      "source": [
        "u = '2024-02-01'"
      ],
      "metadata": {
        "id": "zlo9Wzacf6Cr"
      },
      "execution_count": null,
      "outputs": []
    },
    {
      "cell_type": "code",
      "source": [
        "u"
      ],
      "metadata": {
        "colab": {
          "base_uri": "https://localhost:8080/",
          "height": 35
        },
        "id": "diwus9l7f976",
        "outputId": "c971f4cd-42ac-4829-c0b9-fb7e38a274d2"
      },
      "execution_count": null,
      "outputs": [
        {
          "output_type": "execute_result",
          "data": {
            "text/plain": [
              "'2024-02-01'"
            ],
            "application/vnd.google.colaboratory.intrinsic+json": {
              "type": "string"
            }
          },
          "metadata": {},
          "execution_count": 17
        }
      ]
    },
    {
      "cell_type": "code",
      "source": [
        "type(y) #\"str - string\" = cadena de caracteres"
      ],
      "metadata": {
        "colab": {
          "base_uri": "https://localhost:8080/"
        },
        "id": "yn-cNW_Jf3IR",
        "outputId": "70f3f599-1cfb-4e6d-96f8-3b89dd7a4783"
      },
      "execution_count": null,
      "outputs": [
        {
          "output_type": "execute_result",
          "data": {
            "text/plain": [
              "str"
            ]
          },
          "metadata": {},
          "execution_count": 23
        }
      ]
    },
    {
      "cell_type": "code",
      "source": [
        "type(x) # int - integer = Entero"
      ],
      "metadata": {
        "colab": {
          "base_uri": "https://localhost:8080/"
        },
        "id": "JBFdYiRKHOCD",
        "outputId": "38211a29-75b6-47af-8ff4-35db37fc7e3f"
      },
      "execution_count": null,
      "outputs": [
        {
          "output_type": "execute_result",
          "data": {
            "text/plain": [
              "int"
            ]
          },
          "metadata": {},
          "execution_count": 24
        }
      ]
    },
    {
      "cell_type": "code",
      "source": [
        "z = '2'"
      ],
      "metadata": {
        "id": "BWCq5NobkgFV"
      },
      "execution_count": null,
      "outputs": []
    },
    {
      "cell_type": "code",
      "source": [
        "z"
      ],
      "metadata": {
        "id": "y4jiRtbRkiDz",
        "colab": {
          "base_uri": "https://localhost:8080/",
          "height": 35
        },
        "outputId": "7d7c40fd-614a-436a-efaf-1371114bd7e1"
      },
      "execution_count": null,
      "outputs": [
        {
          "output_type": "execute_result",
          "data": {
            "text/plain": [
              "'2'"
            ],
            "application/vnd.google.colaboratory.intrinsic+json": {
              "type": "string"
            }
          },
          "metadata": {},
          "execution_count": 26
        }
      ]
    },
    {
      "cell_type": "code",
      "source": [
        "x + x * x / x - x"
      ],
      "metadata": {
        "colab": {
          "base_uri": "https://localhost:8080/"
        },
        "id": "SdSAmO80HtoE",
        "outputId": "c6097a68-f32d-4887-be21-1ccae10470c5"
      },
      "execution_count": null,
      "outputs": [
        {
          "output_type": "execute_result",
          "data": {
            "text/plain": [
              "1.0"
            ]
          },
          "metadata": {},
          "execution_count": 28
        }
      ]
    },
    {
      "cell_type": "code",
      "execution_count": null,
      "metadata": {
        "id": "5C3iE7hZ6PpY"
      },
      "outputs": [],
      "source": [
        "# la asignacion de informacion a una variable\n",
        "Hola_mundo = \"Hola Mundo\" # a la variable Hola_mundo le asigno una cadena de caracteres (string) delimitado por unas comillas\n",
        "print(Hola_mundo) # mostrar en pantalla la informacion asignada a la variable Hola_mundo"
      ]
    },
    {
      "cell_type": "code",
      "execution_count": null,
      "metadata": {
        "id": "K9pkuae56LGK"
      },
      "outputs": [],
      "source": [
        "Hola_mundo2 = \"Hola\\nMundo\" # \\n genera un salto de linea\n",
        "print(Hola_mundo2)"
      ]
    },
    {
      "cell_type": "code",
      "source": [
        "x = 3.141542"
      ],
      "metadata": {
        "id": "QpMNZrdwfLz1"
      },
      "execution_count": null,
      "outputs": []
    },
    {
      "cell_type": "code",
      "source": [
        "type(x) # float - punto flotante decimales"
      ],
      "metadata": {
        "colab": {
          "base_uri": "https://localhost:8080/"
        },
        "id": "l4VFwcK0fUBu",
        "outputId": "020a9b0c-3154-4f9f-fe5e-58c04eb0cb5c"
      },
      "execution_count": null,
      "outputs": [
        {
          "output_type": "execute_result",
          "data": {
            "text/plain": [
              "float"
            ]
          },
          "metadata": {},
          "execution_count": 2
        }
      ]
    },
    {
      "cell_type": "markdown",
      "metadata": {
        "id": "lWhYWwEGOnk5"
      },
      "source": [
        "## variables numéricas"
      ]
    },
    {
      "cell_type": "code",
      "execution_count": null,
      "metadata": {
        "id": "7wEUS6EUOvkh",
        "colab": {
          "base_uri": "https://localhost:8080/"
        },
        "outputId": "f6a35874-1b27-42c7-fcf9-fa2c57ab73d2"
      },
      "outputs": [
        {
          "output_type": "execute_result",
          "data": {
            "text/plain": [
              "20220820"
            ]
          },
          "metadata": {},
          "execution_count": 3
        }
      ],
      "source": [
        "20220820"
      ]
    },
    {
      "cell_type": "code",
      "execution_count": null,
      "metadata": {
        "id": "8LoTAkFDO35E",
        "colab": {
          "base_uri": "https://localhost:8080/"
        },
        "outputId": "95a65380-87a7-4a06-ac52-64197e0de5f1"
      },
      "outputs": [
        {
          "output_type": "stream",
          "name": "stdout",
          "text": [
            "20220820\n"
          ]
        }
      ],
      "source": [
        "num = 20220820 # asignar un valor numerico(entero) a la variable num\n",
        "print(num) # muestre lo que tiene la variable num"
      ]
    },
    {
      "cell_type": "code",
      "execution_count": null,
      "metadata": {
        "id": "BZjejybxMzx_",
        "colab": {
          "base_uri": "https://localhost:8080/"
        },
        "outputId": "cd3cce31-7f0d-4505-b504-410f4a4c71f9"
      },
      "outputs": [
        {
          "output_type": "execute_result",
          "data": {
            "text/plain": [
              "int"
            ]
          },
          "metadata": {},
          "execution_count": 6
        }
      ],
      "source": [
        "type(num) # utilizar type para obtener el tipo de dato"
      ]
    },
    {
      "cell_type": "markdown",
      "source": [
        "int - integer - entero"
      ],
      "metadata": {
        "id": "ccLLgokvfmif"
      }
    },
    {
      "cell_type": "code",
      "execution_count": null,
      "metadata": {
        "id": "gwFnCuAyM3fb",
        "colab": {
          "base_uri": "https://localhost:8080/"
        },
        "outputId": "97dbf18e-affb-4557-f5dd-c635ab6e8af2"
      },
      "outputs": [
        {
          "output_type": "stream",
          "name": "stdout",
          "text": [
            "<class 'float'>\n"
          ]
        }
      ],
      "source": [
        "num = 2022.0820 # asigna iformacion (float) a variable\n",
        "print(type(num)) # utilizar type para obtener el tipo de dato"
      ]
    },
    {
      "cell_type": "markdown",
      "source": [
        "float - punto flotante o decimal"
      ],
      "metadata": {
        "id": "7o6-J4QKfy9W"
      }
    },
    {
      "cell_type": "markdown",
      "source": [
        "separador de decimales es el '.'"
      ],
      "metadata": {
        "id": "iEHmtzz8f32c"
      }
    },
    {
      "cell_type": "markdown",
      "metadata": {
        "id": "tHBtQEzCNKZ_"
      },
      "source": [
        "### Operadores"
      ]
    },
    {
      "cell_type": "markdown",
      "metadata": {
        "id": "dKSnGetNPpWa"
      },
      "source": [
        "Python soporta los siguientes operadores aritmeticos:\n",
        "\n",
        "*   \\+ (Adición)\n",
        "*   \\- (Resta)\n",
        "*   \\* (multiplicación)\n",
        "*   / (división)\n",
        "*   ** (potencia)\n",
        "*   // (división entera)."
      ]
    },
    {
      "cell_type": "code",
      "execution_count": null,
      "metadata": {
        "id": "zPdC0ZE_PGnF",
        "colab": {
          "base_uri": "https://localhost:8080/"
        },
        "outputId": "fb943258-3f9b-4399-bb9f-7568205b42c9"
      },
      "outputs": [
        {
          "output_type": "stream",
          "name": "stdout",
          "text": [
            "5\n"
          ]
        }
      ],
      "source": [
        "num_a = 2 # asignar informacion numerica a variable\n",
        "num_b = 3 # asignar informacion numerica a variable\n",
        "num = num_a + num_b # operar entre variables numericas\n",
        "print(num) # muestra el resultado de la operacion"
      ]
    },
    {
      "cell_type": "code",
      "execution_count": null,
      "metadata": {
        "id": "FbXFDVdnSXDP",
        "colab": {
          "base_uri": "https://localhost:8080/"
        },
        "outputId": "e7e77dcf-2950-4ad5-af35-e5e019577a86"
      },
      "outputs": [
        {
          "output_type": "stream",
          "name": "stdout",
          "text": [
            "-1\n"
          ]
        }
      ],
      "source": [
        "num_a = 2 # asignar informacion numerica a variable\n",
        "num_b = 3 # asignar informacion numerica a variable\n",
        "num = num_a - num_b # operar entre variables numericas\n",
        "print(num) # muestra el resultado de la operacion"
      ]
    },
    {
      "cell_type": "code",
      "execution_count": null,
      "metadata": {
        "id": "xhzU-cGgQF_A",
        "colab": {
          "base_uri": "https://localhost:8080/"
        },
        "outputId": "18a0f75c-f1a8-4b47-b258-8c7c9954a54b"
      },
      "outputs": [
        {
          "output_type": "stream",
          "name": "stdout",
          "text": [
            "6\n"
          ]
        }
      ],
      "source": [
        "num_a = 2 # asignar informacion numerica a variable\n",
        "num_b = 3 # asignar informacion numerica a variable\n",
        "num = num_a * num_b # operar entre variables numericas\n",
        "print(num) # muestra el resultado de la operacion"
      ]
    },
    {
      "cell_type": "code",
      "execution_count": null,
      "metadata": {
        "id": "nX1FEL3YQFtb",
        "colab": {
          "base_uri": "https://localhost:8080/"
        },
        "outputId": "5d1822ff-e606-4124-8276-f30100c62fc3"
      },
      "outputs": [
        {
          "output_type": "stream",
          "name": "stdout",
          "text": [
            "0.6666666666666666\n"
          ]
        }
      ],
      "source": [
        "num_a = 2 # asignar informacion numerica a variable\n",
        "num_b = 3 # asignar informacion numerica a variable\n",
        "num = num_a / num_b # operar entre variables numericas\n",
        "print(num) # muestra el resultado de la operacion"
      ]
    },
    {
      "cell_type": "code",
      "execution_count": null,
      "metadata": {
        "id": "HTjd9WdbQFie",
        "colab": {
          "base_uri": "https://localhost:8080/"
        },
        "outputId": "fd7d9517-1dfb-425b-96df-6bc50b153224"
      },
      "outputs": [
        {
          "output_type": "stream",
          "name": "stdout",
          "text": [
            "8\n"
          ]
        }
      ],
      "source": [
        "num_a = 2\n",
        "num_b = 3\n",
        "num = num_a ** num_b # variable num_a elevada a la variable num_b\n",
        "print(num)"
      ]
    },
    {
      "cell_type": "code",
      "execution_count": null,
      "metadata": {
        "id": "mNsvPOh1QFUJ",
        "colab": {
          "base_uri": "https://localhost:8080/"
        },
        "outputId": "4d463772-7b85-48e2-9f35-3610f0ad77cb"
      },
      "outputs": [
        {
          "output_type": "stream",
          "name": "stdout",
          "text": [
            "1\n"
          ]
        }
      ],
      "source": [
        "num_a = 6\n",
        "num_b = 4\n",
        "num = num_a // num_b # division entera\n",
        "print(num)"
      ]
    },
    {
      "cell_type": "code",
      "source": [
        "(1+1)*2"
      ],
      "metadata": {
        "colab": {
          "base_uri": "https://localhost:8080/"
        },
        "id": "JHSeOgIpgSpV",
        "outputId": "f32aff71-f378-4b98-c45f-1feb7a9e9a8a"
      },
      "execution_count": null,
      "outputs": [
        {
          "output_type": "execute_result",
          "data": {
            "text/plain": [
              "4"
            ]
          },
          "metadata": {},
          "execution_count": 14
        }
      ]
    },
    {
      "cell_type": "code",
      "source": [
        "1+1*2"
      ],
      "metadata": {
        "colab": {
          "base_uri": "https://localhost:8080/"
        },
        "id": "X1fQ2x5mgWHk",
        "outputId": "b7749f2a-3b51-468d-c21c-9e1719c34322"
      },
      "execution_count": null,
      "outputs": [
        {
          "output_type": "execute_result",
          "data": {
            "text/plain": [
              "3"
            ]
          },
          "metadata": {},
          "execution_count": 15
        }
      ]
    },
    {
      "cell_type": "code",
      "source": [
        "type(num) # muestra el tipo de dato de la variable"
      ],
      "metadata": {
        "colab": {
          "base_uri": "https://localhost:8080/"
        },
        "id": "O5mV73BZgxxV",
        "outputId": "f3b1b29b-180a-4ec4-bb47-eb225544fb37"
      },
      "execution_count": null,
      "outputs": [
        {
          "output_type": "execute_result",
          "data": {
            "text/plain": [
              "int"
            ]
          },
          "metadata": {},
          "execution_count": 16
        }
      ]
    },
    {
      "cell_type": "code",
      "execution_count": null,
      "metadata": {
        "id": "7hsLUZNrJ5Mp",
        "colab": {
          "base_uri": "https://localhost:8080/"
        },
        "outputId": "27a50b49-6880-4754-bc20-278783037e2f"
      },
      "outputs": [
        {
          "output_type": "stream",
          "name": "stdout",
          "text": [
            "6.56\n"
          ]
        }
      ],
      "source": [
        "num = round(6.55555555, 2) # funciones de redondeo (ojo) funciones de redondeo de numpy\n",
        "print(num)"
      ]
    },
    {
      "cell_type": "code",
      "source": [
        "2/3"
      ],
      "metadata": {
        "colab": {
          "base_uri": "https://localhost:8080/"
        },
        "id": "Wt8mQeFqjrHF",
        "outputId": "b5c21a3c-73d3-4309-f65e-0ad64f690005"
      },
      "execution_count": null,
      "outputs": [
        {
          "output_type": "execute_result",
          "data": {
            "text/plain": [
              "0.6666666666666666"
            ]
          },
          "metadata": {},
          "execution_count": 18
        }
      ]
    },
    {
      "cell_type": "code",
      "source": [
        "round(2/3)"
      ],
      "metadata": {
        "id": "PqRxCwUTgq5B",
        "colab": {
          "base_uri": "https://localhost:8080/"
        },
        "outputId": "7ec54a76-2f7b-4772-9c06-aacde4a1e05b"
      },
      "execution_count": null,
      "outputs": [
        {
          "output_type": "execute_result",
          "data": {
            "text/plain": [
              "1"
            ]
          },
          "metadata": {},
          "execution_count": 19
        }
      ]
    },
    {
      "cell_type": "code",
      "source": [
        "round(2/3, 3)"
      ],
      "metadata": {
        "id": "RMmgyyz1g2ke",
        "colab": {
          "base_uri": "https://localhost:8080/"
        },
        "outputId": "494e20e2-3e27-4145-d350-5c18d82f7f53"
      },
      "execution_count": null,
      "outputs": [
        {
          "output_type": "execute_result",
          "data": {
            "text/plain": [
              "0.667"
            ]
          },
          "metadata": {},
          "execution_count": 20
        }
      ]
    },
    {
      "cell_type": "markdown",
      "metadata": {
        "id": "XgUduxV4MqQ-"
      },
      "source": [
        "## variables de texto"
      ]
    },
    {
      "cell_type": "markdown",
      "metadata": {
        "id": "Rgm3R1qXRAKv"
      },
      "source": [
        "Una cadena es una secuencia de caracteres\n",
        "* son inmutables"
      ]
    },
    {
      "cell_type": "code",
      "execution_count": null,
      "metadata": {
        "id": "FQsbzcMAHmjQ",
        "colab": {
          "base_uri": "https://localhost:8080/",
          "height": 35
        },
        "outputId": "d05c28cf-8254-444b-d2dd-045a6bd4d324"
      },
      "outputs": [
        {
          "output_type": "execute_result",
          "data": {
            "text/plain": [
              "'Hola'"
            ],
            "application/vnd.google.colaboratory.intrinsic+json": {
              "type": "string"
            }
          },
          "metadata": {},
          "execution_count": 21
        }
      ],
      "source": [
        "'Hola' # cadena de caracteres o texto que estan delmitadas por comillas simples' ', dobles \" \" o por triple comilla doble \"\"\" \"\"\""
      ]
    },
    {
      "cell_type": "code",
      "execution_count": null,
      "metadata": {
        "id": "V83pUe6PSXDR",
        "colab": {
          "base_uri": "https://localhost:8080/"
        },
        "outputId": "3ff4ed33-cdf9-4c8a-9733-bb96561926dd"
      },
      "outputs": [
        {
          "output_type": "stream",
          "name": "stdout",
          "text": [
            "Hola\n"
          ]
        }
      ],
      "source": [
        "txt = \"Hola\" # asigna una cadena de caratcer a una variable\n",
        "print(txt)"
      ]
    },
    {
      "cell_type": "code",
      "source": [
        "txt = 'Hola' # asigna una cadena de caratcer a una variable\n",
        "print(txt)"
      ],
      "metadata": {
        "id": "XC6fZvLyhWek",
        "colab": {
          "base_uri": "https://localhost:8080/"
        },
        "outputId": "f70772b9-99ad-46a3-fde5-4ec7e2d4934b"
      },
      "execution_count": null,
      "outputs": [
        {
          "output_type": "stream",
          "name": "stdout",
          "text": [
            "Hola\n"
          ]
        }
      ]
    },
    {
      "cell_type": "code",
      "execution_count": null,
      "metadata": {
        "id": "Pn1yAcJISXDR",
        "colab": {
          "base_uri": "https://localhost:8080/"
        },
        "outputId": "25f59cc7-d112-42db-ef0f-8785bb8f5f97"
      },
      "outputs": [
        {
          "output_type": "stream",
          "name": "stdout",
          "text": [
            "Hola \"campeón\", cómo te fue en el partido?\n"
          ]
        }
      ],
      "source": [
        "txt = 'Hola \"campeón\", cómo te fue en el partido?' # utilizar comillas dentro del texto\n",
        "print(txt)"
      ]
    },
    {
      "cell_type": "code",
      "execution_count": null,
      "metadata": {
        "id": "AavkgQs5JJvo",
        "colab": {
          "base_uri": "https://localhost:8080/"
        },
        "outputId": "43e945d7-7a33-4ebc-cedb-0fbc13f68725"
      },
      "outputs": [
        {
          "output_type": "stream",
          "name": "stdout",
          "text": [
            "Poverty is the deprivation of opportunity.\n",
            "Education makes us the human beings we are.\n"
          ]
        }
      ],
      "source": [
        "# el uso de triple doble comilla es para textos largos, parrafos y/o con saltos de linea\n",
        "txt = \"\"\"Poverty is the deprivation of opportunity.\n",
        "Education makes us the human beings we are.\"\"\"\n",
        "print(txt)"
      ]
    },
    {
      "cell_type": "code",
      "execution_count": null,
      "metadata": {
        "id": "dmA6MmQ0Ih_E",
        "colab": {
          "base_uri": "https://localhost:8080/"
        },
        "outputId": "ad840753-4b06-4e26-a808-1d0c2f09b202"
      },
      "outputs": [
        {
          "output_type": "stream",
          "name": "stdout",
          "text": [
            "Poverty is the deprivation of 'opportunity'.\n",
            "\"Education\" makes us the human beings we are.\n"
          ]
        }
      ],
      "source": [
        "# uso de comillas dentro de comillas, deben ser diferentes a las que utilizan para delimitar\n",
        "txt = \"\"\"Poverty is the deprivation of 'opportunity'.\n",
        "\"Education\" makes us the human beings we are.\"\"\"\n",
        "print(txt)"
      ]
    },
    {
      "cell_type": "markdown",
      "metadata": {
        "id": "fgB1EzfVNOZU"
      },
      "source": [
        "### operadores"
      ]
    },
    {
      "cell_type": "code",
      "execution_count": null,
      "metadata": {
        "id": "UnFo3HnWJ5DI",
        "colab": {
          "base_uri": "https://localhost:8080/"
        },
        "outputId": "1fb811b1-5827-442b-921f-8f77e5bf5c66"
      },
      "outputs": [
        {
          "output_type": "stream",
          "name": "stdout",
          "text": [
            "Poverty is the deprivation of opportunity.\n"
          ]
        }
      ],
      "source": [
        "txt_a = 'Poverty is the '\n",
        "txt_b = 'deprivation of opportunity.'\n",
        "txt = txt_a + txt_b # operador de suma para vars de texto (concatenar|paste)\n",
        "print(txt)"
      ]
    },
    {
      "cell_type": "code",
      "execution_count": null,
      "metadata": {
        "id": "hzHt_IzqJaPQ",
        "colab": {
          "base_uri": "https://localhost:8080/"
        },
        "outputId": "edceecdc-41bd-47b4-cf3e-0fd850d3d036"
      },
      "outputs": [
        {
          "output_type": "stream",
          "name": "stdout",
          "text": [
            "Poverty is the deprivation of opportunity. \n",
            "Education makes us the human beings we are.\n"
          ]
        }
      ],
      "source": [
        "txt_a = 'Poverty is the deprivation of opportunity.'\n",
        "txt_b = ' \\n'\n",
        "txt_c = 'Education makes us the human beings we are.'\n",
        "txt = txt_a+txt_b+txt_c # puedo concatenar varias vars de texto\n",
        "print(txt)"
      ]
    },
    {
      "cell_type": "code",
      "execution_count": null,
      "metadata": {
        "id": "L5Ltt9So77bz",
        "colab": {
          "base_uri": "https://localhost:8080/"
        },
        "outputId": "68a07f8f-5d36-4938-86d5-3d1969de8290"
      },
      "outputs": [
        {
          "output_type": "stream",
          "name": "stdout",
          "text": [
            "peace_peace_peace_peace_peace_peace_peace_\n"
          ]
        }
      ],
      "source": [
        "txt_a = 'peace_' # var de texto\n",
        "txt_times = 7 # var numerica\n",
        "txt = txt_a * txt_times # escriber tantas veces un mismo texto\n",
        "print(txt)"
      ]
    },
    {
      "cell_type": "code",
      "source": [
        "3*'listo_'"
      ],
      "metadata": {
        "id": "ZJt550IeiMeX",
        "colab": {
          "base_uri": "https://localhost:8080/",
          "height": 35
        },
        "outputId": "874f71cb-3a92-473a-aa5e-a76d85180229"
      },
      "execution_count": null,
      "outputs": [
        {
          "output_type": "execute_result",
          "data": {
            "text/plain": [
              "'listo_listo_listo_'"
            ],
            "application/vnd.google.colaboratory.intrinsic+json": {
              "type": "string"
            }
          },
          "metadata": {},
          "execution_count": 33
        }
      ]
    },
    {
      "cell_type": "markdown",
      "metadata": {
        "id": "FOJDvodhNShf"
      },
      "source": [
        "### entrada de texto"
      ]
    },
    {
      "cell_type": "code",
      "execution_count": null,
      "metadata": {
        "id": "EBtdD_zhJtia"
      },
      "outputs": [],
      "source": [
        "txt_input = input(\"Escriba algún texto: \") # escribe mnensaje en pantalla para esperar entrada del usuario\n",
        "print(txt_input)"
      ]
    },
    {
      "cell_type": "code",
      "source": [
        "txt_input*3"
      ],
      "metadata": {
        "id": "6DrbnyxylAIf"
      },
      "execution_count": null,
      "outputs": []
    },
    {
      "cell_type": "markdown",
      "metadata": {
        "id": "PaUShapyNVAt"
      },
      "source": [
        "### tratamiento de texto"
      ]
    },
    {
      "cell_type": "code",
      "execution_count": null,
      "metadata": {
        "id": "BpUVEJtWKexD",
        "colab": {
          "base_uri": "https://localhost:8080/"
        },
        "outputId": "55606051-8b9e-46c2-f09d-96950ce50284"
      },
      "outputs": [
        {
          "output_type": "stream",
          "name": "stdout",
          "text": [
            "             poverty is the             \n"
          ]
        }
      ],
      "source": [
        "txt_a = '             Poverty Is The             '\n",
        "txt = txt_a.lower() # metodo pasar a minusculas\n",
        "print(txt)"
      ]
    },
    {
      "cell_type": "code",
      "execution_count": null,
      "metadata": {
        "id": "9SmweogZKvIt",
        "colab": {
          "base_uri": "https://localhost:8080/"
        },
        "outputId": "4881b01d-cc4a-4ca0-af6f-e2a6fd528d65"
      },
      "outputs": [
        {
          "output_type": "stream",
          "name": "stdout",
          "text": [
            "             POVERTY IS THE             \n"
          ]
        }
      ],
      "source": [
        "txt = txt_a.upper() # metodo para pasar a mayusculas\n",
        "print(txt)"
      ]
    },
    {
      "cell_type": "code",
      "execution_count": null,
      "metadata": {
        "id": "TZJ4cHvNLsZ-",
        "colab": {
          "base_uri": "https://localhost:8080/"
        },
        "outputId": "88d8e2f0-af5c-47f0-d2be-26ed1da7cdc3"
      },
      "outputs": [
        {
          "output_type": "stream",
          "name": "stdout",
          "text": [
            "Poverty Is The             \n"
          ]
        }
      ],
      "source": [
        "txt = txt_a.lstrip() # metodo para quitar los vacios a la izquierda (left)\n",
        "print(txt)"
      ]
    },
    {
      "cell_type": "code",
      "execution_count": null,
      "metadata": {
        "id": "ORcEv08MLtDR",
        "colab": {
          "base_uri": "https://localhost:8080/"
        },
        "outputId": "e7b963fb-ca9e-42c5-9925-419d9f77fc18"
      },
      "outputs": [
        {
          "output_type": "stream",
          "name": "stdout",
          "text": [
            "             Poverty Is The\n"
          ]
        }
      ],
      "source": [
        "txt_a = '             Poverty Is The             '\n",
        "txt = txt_a.rstrip()# metodo para quitar los vacios a la derecha (right)\n",
        "print(txt)"
      ]
    },
    {
      "cell_type": "code",
      "execution_count": null,
      "metadata": {
        "id": "_SaWdXLFLtjx",
        "colab": {
          "base_uri": "https://localhost:8080/"
        },
        "outputId": "643bcbd6-08d0-46b5-fb67-30f31d834dde"
      },
      "outputs": [
        {
          "output_type": "stream",
          "name": "stdout",
          "text": [
            "Poverty Is The\n"
          ]
        }
      ],
      "source": [
        "txt_a = '             Poverty Is The             '\n",
        "txt = txt_a.strip() # metodo para quitar los vacios a ambos lados\n",
        "print(txt)"
      ]
    },
    {
      "cell_type": "code",
      "execution_count": null,
      "metadata": {
        "id": "UXeVxFstL60w",
        "colab": {
          "base_uri": "https://localhost:8080/"
        },
        "outputId": "74e60a88-5e67-469f-912a-2973cb0634ca"
      },
      "outputs": [
        {
          "output_type": "stream",
          "name": "stdout",
          "text": [
            "False\n"
          ]
        }
      ],
      "source": [
        "txt_a = '             Poverty Is The             '\n",
        "txt = txt_a.startswith(\"Po\") # metodo para revisar si comienza con\n",
        "print(txt)"
      ]
    },
    {
      "cell_type": "code",
      "execution_count": null,
      "metadata": {
        "id": "96OAjKnlMKAg",
        "colab": {
          "base_uri": "https://localhost:8080/"
        },
        "outputId": "5eaa07b5-280e-4f1d-8579-2b5f8721aa32"
      },
      "outputs": [
        {
          "output_type": "stream",
          "name": "stdout",
          "text": [
            "True\n"
          ]
        }
      ],
      "source": [
        "txt_a = '             Poverty Is The             '\n",
        "# podemos encadenar varios metodos... el resultado de aplicar uno le podemos aplicar el siguiente\n",
        "txt = txt_a.strip().startswith(\"Po\") # metodo para quitar vacios y luego si verificar si inicia con po\n",
        "print(txt)"
      ]
    },
    {
      "cell_type": "code",
      "source": [
        "txt_a = '             Poverty Is The             '\n",
        "# podemos encadenar varios metodos... el resultado de aplicar uno le podemos aplicar el siguiente\n",
        "txt = txt_a.strip().startswith(\"po\") # metodo para quitar vacios y luego si verificar si inicia con po\n",
        "print(txt)"
      ],
      "metadata": {
        "colab": {
          "base_uri": "https://localhost:8080/"
        },
        "id": "ezwp-FL4kY5U",
        "outputId": "b7a5dcf0-61d9-45fd-fa27-f09cda8e2126"
      },
      "execution_count": null,
      "outputs": [
        {
          "output_type": "stream",
          "name": "stdout",
          "text": [
            "False\n"
          ]
        }
      ]
    },
    {
      "cell_type": "code",
      "source": [
        "txt_a.strip().lower()"
      ],
      "metadata": {
        "id": "Fqk7vdGCmrNO",
        "colab": {
          "base_uri": "https://localhost:8080/",
          "height": 35
        },
        "outputId": "e3cabb2f-b63b-4600-a2cc-53fa170f2937"
      },
      "execution_count": null,
      "outputs": [
        {
          "output_type": "execute_result",
          "data": {
            "text/plain": [
              "'poverty is the'"
            ],
            "application/vnd.google.colaboratory.intrinsic+json": {
              "type": "string"
            }
          },
          "metadata": {},
          "execution_count": 46
        }
      ]
    },
    {
      "cell_type": "code",
      "execution_count": null,
      "metadata": {
        "id": "i2aLn_5lSXDX",
        "colab": {
          "base_uri": "https://localhost:8080/"
        },
        "outputId": "f68744da-dfb4-4f3e-f9b6-772e5a2caf91"
      },
      "outputs": [
        {
          "output_type": "stream",
          "name": "stdout",
          "text": [
            "True\n"
          ]
        }
      ],
      "source": [
        "txt_a = '             Poverty Is The             '\n",
        "# podemos encadenar varios metodos... el resultado de aplicar uno le podemos aplicar el siguiente\n",
        "txt = txt_a.strip().lower().startswith(\"po\") # metodo para quitar vacios y luego si verificar si inicia con po\n",
        "print(txt)"
      ]
    },
    {
      "cell_type": "code",
      "execution_count": null,
      "metadata": {
        "id": "FzFnbImWNDaa",
        "colab": {
          "base_uri": "https://localhost:8080/"
        },
        "outputId": "22ca6766-cdbe-4add-f238-63284afd4f90"
      },
      "outputs": [
        {
          "output_type": "stream",
          "name": "stdout",
          "text": [
            "25\n"
          ]
        }
      ],
      "source": [
        "txt_a = '             Poverty Is The             '\n",
        "pattern = 'he'\n",
        "txt = txt_a.find(pattern) # metodo de busqueda de un patron y devuelve posicion dentro de string\n",
        "print(txt)"
      ]
    },
    {
      "cell_type": "code",
      "source": [
        "txt_a = '             Poverty Is The             '\n",
        "pattern = 'i'\n",
        "txt = txt_a.strip().lower().find(pattern) # metodo de busqueda de un patroin y devuelve posicion dentro de string\n",
        "print(txt)"
      ],
      "metadata": {
        "colab": {
          "base_uri": "https://localhost:8080/"
        },
        "id": "LZt84ct2m9Ti",
        "outputId": "3fa89efd-206b-4533-c663-1320b804a494"
      },
      "execution_count": null,
      "outputs": [
        {
          "output_type": "stream",
          "name": "stdout",
          "text": [
            "8\n"
          ]
        }
      ]
    },
    {
      "cell_type": "code",
      "execution_count": null,
      "metadata": {
        "id": "FGJAQRVnNSu3",
        "colab": {
          "base_uri": "https://localhost:8080/"
        },
        "outputId": "b1b3d64e-df1e-466d-f865-2ebddb1f8a33"
      },
      "outputs": [
        {
          "output_type": "stream",
          "name": "stdout",
          "text": [
            "             PovXZty Is The             \n"
          ]
        }
      ],
      "source": [
        "txt_a = '             Poverty Is The             '\n",
        "pattern = 'er'\n",
        "replace = 'XZ'\n",
        "txt = txt_a.replace(pattern, replace) # metodo de reemplazo\n",
        "print(txt)"
      ]
    },
    {
      "cell_type": "markdown",
      "metadata": {
        "id": "cvgpPFi7h7vg"
      },
      "source": [
        "* Longitud"
      ]
    },
    {
      "cell_type": "code",
      "execution_count": null,
      "metadata": {
        "id": "Hhlcc56R7Swr",
        "colab": {
          "base_uri": "https://localhost:8080/"
        },
        "outputId": "80bcc730-8dcd-4bf8-b426-eccf8197dfcc"
      },
      "outputs": [
        {
          "output_type": "execute_result",
          "data": {
            "text/plain": [
              "10"
            ]
          },
          "metadata": {},
          "execution_count": 55
        }
      ],
      "source": [
        "txt = 'Hola mundo'\n",
        "len(txt) # es la longitud de una variable de texto"
      ]
    },
    {
      "cell_type": "markdown",
      "metadata": {
        "id": "KTW-t3_17QiB"
      },
      "source": [
        "## Rangos"
      ]
    },
    {
      "cell_type": "markdown",
      "metadata": {
        "id": "Mm_IJKGSJjsb"
      },
      "source": [
        "Es una función que devuelve una secuencia de numeros.\n",
        "* Todas las secuencias en Python comienzan a numerarse desde 0 (n-1)-ésimo elemento de un tupla"
      ]
    },
    {
      "cell_type": "code",
      "source": [
        "rang = range(13) # (final), por defecto empieza en 0"
      ],
      "metadata": {
        "id": "HMC9YsqCv2EK"
      },
      "execution_count": null,
      "outputs": []
    },
    {
      "cell_type": "code",
      "source": [
        "for num in rang: # FOR estructura de control o bucles o ciclos\n",
        "  print(num)"
      ],
      "metadata": {
        "colab": {
          "base_uri": "https://localhost:8080/"
        },
        "id": "a9frS2SQqiaC",
        "outputId": "ec4353ef-152d-4739-ee24-99661ad4f846"
      },
      "execution_count": null,
      "outputs": [
        {
          "output_type": "stream",
          "name": "stdout",
          "text": [
            "0\n",
            "1\n",
            "2\n",
            "3\n",
            "4\n",
            "5\n",
            "6\n",
            "7\n",
            "8\n",
            "9\n",
            "10\n",
            "11\n",
            "12\n"
          ]
        }
      ]
    },
    {
      "cell_type": "code",
      "source": [
        "rang = range(5, 10) # (inicio, final)"
      ],
      "metadata": {
        "id": "FSnBbcd2wILO"
      },
      "execution_count": null,
      "outputs": []
    },
    {
      "cell_type": "code",
      "source": [
        "for num in rang: # FOR estructura de control o bucles o ciclos\n",
        "  print(num)"
      ],
      "metadata": {
        "colab": {
          "base_uri": "https://localhost:8080/"
        },
        "id": "EdDERMCyqswp",
        "outputId": "cfda8a70-940f-467f-b892-012eaa4fc794"
      },
      "execution_count": null,
      "outputs": [
        {
          "output_type": "stream",
          "name": "stdout",
          "text": [
            "5\n",
            "6\n",
            "7\n",
            "8\n",
            "9\n"
          ]
        }
      ]
    },
    {
      "cell_type": "code",
      "source": [
        "# range(inicio, final, paso)\n",
        "rang = range(5, 100, 10) # 5, 15, 25, 35, 45, 55, 65, 75, 85, 95"
      ],
      "metadata": {
        "id": "VY2_RbnAsMgy"
      },
      "execution_count": null,
      "outputs": []
    },
    {
      "cell_type": "code",
      "source": [
        "for num in rang: # FOR estructura de control o bucles o ciclos\n",
        "  print(num)"
      ],
      "metadata": {
        "id": "KwNsMp0AsccU",
        "colab": {
          "base_uri": "https://localhost:8080/"
        },
        "outputId": "15a63d1a-3dda-43c9-e96e-fcf8ef7e768a"
      },
      "execution_count": null,
      "outputs": [
        {
          "output_type": "stream",
          "name": "stdout",
          "text": [
            "5\n",
            "15\n",
            "25\n",
            "35\n",
            "45\n",
            "55\n",
            "65\n",
            "75\n",
            "85\n",
            "95\n"
          ]
        }
      ]
    },
    {
      "cell_type": "code",
      "execution_count": null,
      "metadata": {
        "id": "ffTY1zouSXDY",
        "colab": {
          "base_uri": "https://localhost:8080/"
        },
        "outputId": "eaf468a1-b886-4273-e5b2-615aeca77571"
      },
      "outputs": [
        {
          "output_type": "stream",
          "name": "stdout",
          "text": [
            "<class 'range'>\n",
            "range(0, 10)\n",
            "0\n",
            "1\n",
            "2\n",
            "3\n",
            "4\n",
            "5\n",
            "6\n",
            "7\n",
            "8\n",
            "9\n"
          ]
        }
      ],
      "source": [
        "# el caso en el que le doy solo una entrada al rango\n",
        "rang = range(10) # asignar a una variable un rango\n",
        "print(type(rang)) # muestreme en pantalla el tipo de objeto o informacion en la variable\n",
        "print(rang) # muestre la informacion dentro del objeto\n",
        "for num in rang: # FOR estructura de control o bucles o ciclos\n",
        "  print(num) # va a mostrar en pantalla los elementos del rango"
      ]
    },
    {
      "cell_type": "code",
      "execution_count": null,
      "metadata": {
        "id": "Dejnealo7jj6",
        "colab": {
          "base_uri": "https://localhost:8080/"
        },
        "outputId": "d756807a-99d4-4e21-9808-76c2983734a7"
      },
      "outputs": [
        {
          "output_type": "stream",
          "name": "stdout",
          "text": [
            "<class 'range'>\n",
            "range(1, 10)\n",
            "1\n",
            "2\n",
            "3\n",
            "4\n",
            "5\n",
            "6\n",
            "7\n",
            "8\n",
            "9\n"
          ]
        }
      ],
      "source": [
        "# el caso en el que le doy dos entrada al rango\n",
        "rang = range(1, 10) # asignar a una variable un rango\n",
        "print(type(rang)) # muestreme en pantalla el tipo de objeto o informacion en la variable\n",
        "print(rang) # muestre la informacion dentro del objeto\n",
        "for num in rang: # FOR estructura de control o bucles o ciclos\n",
        "  print(num) # va a mostrar en pantalla los elementos del rango"
      ]
    },
    {
      "cell_type": "code",
      "execution_count": null,
      "metadata": {
        "id": "WN9x3nDW74wB",
        "colab": {
          "base_uri": "https://localhost:8080/"
        },
        "outputId": "1e3ab4ba-b101-4b9d-f93b-a7d4aa4fe6c4"
      },
      "outputs": [
        {
          "output_type": "stream",
          "name": "stdout",
          "text": [
            "<class 'range'>\n",
            "range(5, 16, 2)\n",
            "5\n",
            "7\n",
            "9\n",
            "11\n",
            "13\n",
            "15\n"
          ]
        }
      ],
      "source": [
        "# el caso en el que le doy tres entrada al rango\n",
        "rang = range(5, 16, 2) # saltos al rango 5,7,9,11,13,15 ... no incluye 16\n",
        "print(type(rang))\n",
        "print(rang)\n",
        "for num in rang:\n",
        "  print(num)"
      ]
    },
    {
      "cell_type": "markdown",
      "metadata": {
        "id": "pBCamJX7QmNU"
      },
      "source": [
        "## Listas"
      ]
    },
    {
      "cell_type": "markdown",
      "metadata": {
        "id": "GbT6Wb8HPfIt"
      },
      "source": [
        "* Son secuencias mutables\n",
        "* Para buscar en las listas, se utiliza un algoritmo de comparación que tarda cada vez más a medida que la lista se hace más larga.\n",
        "\n"
      ]
    },
    {
      "cell_type": "code",
      "source": [
        "mi_lista = []\n",
        "print(type(mi_lista))\n",
        "print(mi_lista)"
      ],
      "metadata": {
        "colab": {
          "base_uri": "https://localhost:8080/"
        },
        "id": "98uiVQPImJTw",
        "outputId": "396801bc-ea99-4cc8-eade-7197615cf46f"
      },
      "execution_count": null,
      "outputs": [
        {
          "output_type": "stream",
          "name": "stdout",
          "text": [
            "<class 'list'>\n",
            "[]\n"
          ]
        }
      ]
    },
    {
      "cell_type": "code",
      "execution_count": null,
      "metadata": {
        "colab": {
          "base_uri": "https://localhost:8080/"
        },
        "id": "5_H-4P88NUW7",
        "outputId": "1122ada4-d9f1-43cc-c973-e93253ec678e"
      },
      "outputs": [
        {
          "output_type": "stream",
          "name": "stdout",
          "text": [
            "[1, 2, 3, 4, 5]\n"
          ]
        }
      ],
      "source": [
        "lista = [1, 2, 3, 4, 5] # asignar una lista vacia a la variable\n",
        "print(lista)"
      ]
    },
    {
      "cell_type": "code",
      "execution_count": null,
      "metadata": {
        "colab": {
          "base_uri": "https://localhost:8080/"
        },
        "id": "C91U45WIQxSA",
        "outputId": "83050005-9c0a-4b7a-eed7-834bdb31265a"
      },
      "outputs": [
        {
          "output_type": "stream",
          "name": "stdout",
          "text": [
            "['2022', '08', '20']\n"
          ]
        }
      ],
      "source": [
        "lista = ['2022', '08', '20'] # asignar una lista de tres elementos/variables de texto\n",
        "print(lista)"
      ]
    },
    {
      "cell_type": "code",
      "execution_count": null,
      "metadata": {
        "id": "bVOtfGAbSXDZ",
        "colab": {
          "base_uri": "https://localhost:8080/"
        },
        "outputId": "90cb3664-0960-4316-9c4d-ff2530be03a5"
      },
      "outputs": [
        {
          "output_type": "stream",
          "name": "stdout",
          "text": [
            "[2022, 8, 20]\n"
          ]
        }
      ],
      "source": [
        "lista = [2022,8,20] # asignar una lista de tres elementos/variables de numericos\n",
        "print(lista)"
      ]
    },
    {
      "cell_type": "code",
      "execution_count": null,
      "metadata": {
        "colab": {
          "base_uri": "https://localhost:8080/"
        },
        "id": "DDcS-kKwSXDZ",
        "outputId": "4750705a-dcca-4480-bc23-66817876c896"
      },
      "outputs": [
        {
          "output_type": "stream",
          "name": "stdout",
          "text": [
            "[2022, 8, 20, 'sabado']\n"
          ]
        }
      ],
      "source": [
        "lista = [2022, 8, 20, 'sabado'] # asignar una lista de tres elementos/variables numericos o de texto\n",
        "print(lista)"
      ]
    },
    {
      "cell_type": "code",
      "source": [
        "list_a = ['2022', '08', '20']#crear la lista\n",
        "list_a"
      ],
      "metadata": {
        "colab": {
          "base_uri": "https://localhost:8080/"
        },
        "id": "NMGZdYnmsLtJ",
        "outputId": "64adbd6b-b997-48f5-f7d0-3ff659a21437"
      },
      "execution_count": null,
      "outputs": [
        {
          "output_type": "execute_result",
          "data": {
            "text/plain": [
              "['2022', '08', '20']"
            ]
          },
          "metadata": {},
          "execution_count": 61
        }
      ]
    },
    {
      "cell_type": "code",
      "execution_count": null,
      "metadata": {
        "id": "Qf6m3EGfRBfh",
        "colab": {
          "base_uri": "https://localhost:8080/"
        },
        "outputId": "4aeb6ad5-1cad-4472-b835-2bff0c7c03a1"
      },
      "outputs": [
        {
          "output_type": "execute_result",
          "data": {
            "text/plain": [
              "['2022', '08', '20', 'palabra']"
            ]
          },
          "metadata": {},
          "execution_count": 62
        }
      ],
      "source": [
        "var_b = 'palabra'# variable de texto\n",
        "list_a.append(var_b)# metodo append para agregar a la lista un nuevo elemento\n",
        "list_a"
      ]
    },
    {
      "cell_type": "code",
      "source": [
        "list_a.append(var_b)# metodo append para agregar a la lista un nuevo elemento\n",
        "list_a"
      ],
      "metadata": {
        "id": "uyZ6HZaDlO9e",
        "colab": {
          "base_uri": "https://localhost:8080/"
        },
        "outputId": "99547f0c-1292-480d-f9e6-a4ce4f4cb77d"
      },
      "execution_count": null,
      "outputs": [
        {
          "output_type": "execute_result",
          "data": {
            "text/plain": [
              "['2022',\n",
              " '08',\n",
              " '20',\n",
              " 'palabra',\n",
              " 'palabra',\n",
              " 'palabra',\n",
              " 'palabra',\n",
              " 'palabra',\n",
              " 'palabra']"
            ]
          },
          "metadata": {},
          "execution_count": 67
        }
      ]
    },
    {
      "cell_type": "markdown",
      "source": [
        "lista = ['2022', '08', '20']<br>\n",
        "0      1     2"
      ],
      "metadata": {
        "id": "LyA-trZdllVL"
      }
    },
    {
      "cell_type": "code",
      "source": [
        "lista = ['2022', '08', '20']"
      ],
      "metadata": {
        "id": "8v2ErnNdnLNT"
      },
      "execution_count": null,
      "outputs": []
    },
    {
      "cell_type": "code",
      "execution_count": null,
      "metadata": {
        "id": "PpHrD3K1TJrd",
        "colab": {
          "base_uri": "https://localhost:8080/",
          "height": 35
        },
        "outputId": "244920f4-33ad-4764-f9c1-bea8dff5f2d9"
      },
      "outputs": [
        {
          "output_type": "execute_result",
          "data": {
            "text/plain": [
              "'2022'"
            ],
            "application/vnd.google.colaboratory.intrinsic+json": {
              "type": "string"
            }
          },
          "metadata": {},
          "execution_count": 69
        }
      ],
      "source": [
        "lista[0] # posicion de elementos en una lista"
      ]
    },
    {
      "cell_type": "code",
      "source": [
        "lista[2]"
      ],
      "metadata": {
        "colab": {
          "base_uri": "https://localhost:8080/",
          "height": 35
        },
        "id": "4Q82QNVYnOu0",
        "outputId": "b3986146-babb-4f4b-90b1-203377f18731"
      },
      "execution_count": null,
      "outputs": [
        {
          "output_type": "execute_result",
          "data": {
            "text/plain": [
              "'20'"
            ],
            "application/vnd.google.colaboratory.intrinsic+json": {
              "type": "string"
            }
          },
          "metadata": {},
          "execution_count": 70
        }
      ]
    },
    {
      "cell_type": "code",
      "source": [
        "lista.append('489')\n",
        "lista.append('1')\n",
        "lista.append('18')\n",
        "lista"
      ],
      "metadata": {
        "colab": {
          "base_uri": "https://localhost:8080/"
        },
        "id": "sSBqTXs6mFCC",
        "outputId": "1e3c8186-bb29-4592-de4d-f3849ca79230"
      },
      "execution_count": null,
      "outputs": [
        {
          "output_type": "execute_result",
          "data": {
            "text/plain": [
              "['2022', '08', '20', '489', '1', '18']"
            ]
          },
          "metadata": {},
          "execution_count": 71
        }
      ]
    },
    {
      "cell_type": "code",
      "source": [
        "lista[5]"
      ],
      "metadata": {
        "colab": {
          "base_uri": "https://localhost:8080/",
          "height": 35
        },
        "id": "5Ua_8oYGl5Ht",
        "outputId": "be5f9e5d-351e-483f-82af-076fa17e503d"
      },
      "execution_count": null,
      "outputs": [
        {
          "output_type": "execute_result",
          "data": {
            "text/plain": [
              "'18'"
            ],
            "application/vnd.google.colaboratory.intrinsic+json": {
              "type": "string"
            }
          },
          "metadata": {},
          "execution_count": 72
        }
      ]
    },
    {
      "cell_type": "code",
      "source": [
        "lista[-1]"
      ],
      "metadata": {
        "colab": {
          "base_uri": "https://localhost:8080/",
          "height": 35
        },
        "id": "QPX6DwGfnkNV",
        "outputId": "b69cd252-1cb4-48be-b3de-e01c1e95a06b"
      },
      "execution_count": null,
      "outputs": [
        {
          "output_type": "execute_result",
          "data": {
            "text/plain": [
              "'18'"
            ],
            "application/vnd.google.colaboratory.intrinsic+json": {
              "type": "string"
            }
          },
          "metadata": {},
          "execution_count": 73
        }
      ]
    },
    {
      "cell_type": "code",
      "source": [
        "lista[-3]"
      ],
      "metadata": {
        "colab": {
          "base_uri": "https://localhost:8080/",
          "height": 35
        },
        "id": "jqfEuO3omXQ7",
        "outputId": "92d4c976-3b72-4071-9e9a-c4c6ef5daeac"
      },
      "execution_count": null,
      "outputs": [
        {
          "output_type": "execute_result",
          "data": {
            "text/plain": [
              "'489'"
            ],
            "application/vnd.google.colaboratory.intrinsic+json": {
              "type": "string"
            }
          },
          "metadata": {},
          "execution_count": 74
        }
      ]
    },
    {
      "cell_type": "code",
      "source": [
        "lista[-4]"
      ],
      "metadata": {
        "colab": {
          "base_uri": "https://localhost:8080/",
          "height": 35
        },
        "id": "S0jmfMYMmaZh",
        "outputId": "ca12ff09-f9cb-497d-fc0e-818d0071b1e6"
      },
      "execution_count": null,
      "outputs": [
        {
          "output_type": "execute_result",
          "data": {
            "text/plain": [
              "'20'"
            ],
            "application/vnd.google.colaboratory.intrinsic+json": {
              "type": "string"
            }
          },
          "metadata": {},
          "execution_count": 75
        }
      ]
    },
    {
      "cell_type": "code",
      "source": [
        "lista[0:2]"
      ],
      "metadata": {
        "id": "9DaKnvwHsyC5",
        "colab": {
          "base_uri": "https://localhost:8080/"
        },
        "outputId": "a66fc8fa-109d-4032-d871-028898e1256a"
      },
      "execution_count": null,
      "outputs": [
        {
          "output_type": "execute_result",
          "data": {
            "text/plain": [
              "['2022', '08']"
            ]
          },
          "metadata": {},
          "execution_count": 78
        }
      ]
    },
    {
      "cell_type": "code",
      "execution_count": null,
      "metadata": {
        "colab": {
          "base_uri": "https://localhost:8080/"
        },
        "id": "HqBL92EaTutU",
        "outputId": "b992a0b9-c0bf-42c9-a967-c7940bd9ec03"
      },
      "outputs": [
        {
          "output_type": "execute_result",
          "data": {
            "text/plain": [
              "['08', '20', '489']"
            ]
          },
          "metadata": {},
          "execution_count": 79
        }
      ],
      "source": [
        "lista[1:4] ##[inicio, fin]## seleccionar segun un rango de posiciones *el valor del final no esta incluido"
      ]
    },
    {
      "cell_type": "code",
      "source": [
        "lista[-4:-1] #[inicio, fin]"
      ],
      "metadata": {
        "colab": {
          "base_uri": "https://localhost:8080/"
        },
        "id": "bPkDg9tRmoxX",
        "outputId": "21d589f4-b956-4c3a-dc1c-d80f5ddaf3af"
      },
      "execution_count": null,
      "outputs": [
        {
          "output_type": "execute_result",
          "data": {
            "text/plain": [
              "['20', '489', '1']"
            ]
          },
          "metadata": {},
          "execution_count": 80
        }
      ]
    },
    {
      "cell_type": "code",
      "execution_count": null,
      "metadata": {
        "colab": {
          "base_uri": "https://localhost:8080/"
        },
        "id": "AfLkvOpPTxpc",
        "outputId": "0fa072a4-b473-44f9-aabc-23cffff0cbf6"
      },
      "outputs": [
        {
          "output_type": "execute_result",
          "data": {
            "text/plain": [
              "['20', '489', '1', '18']"
            ]
          },
          "metadata": {},
          "execution_count": 81
        }
      ],
      "source": [
        "lista[2:] # de ahí en adelante"
      ]
    },
    {
      "cell_type": "code",
      "source": [
        "lista[:4] # hasta acá *el valor del final no esta incluido"
      ],
      "metadata": {
        "colab": {
          "base_uri": "https://localhost:8080/"
        },
        "id": "cCGZHmMjm6KU",
        "outputId": "04c03c39-2263-4b2d-f78b-9311aa738859"
      },
      "execution_count": null,
      "outputs": [
        {
          "output_type": "execute_result",
          "data": {
            "text/plain": [
              "['2022', '08', '20', '489']"
            ]
          },
          "metadata": {},
          "execution_count": 82
        }
      ]
    },
    {
      "cell_type": "code",
      "execution_count": null,
      "metadata": {
        "id": "pUU3UuNgT1io",
        "colab": {
          "base_uri": "https://localhost:8080/"
        },
        "outputId": "17218742-d95a-490c-e3a4-995b81753c4a"
      },
      "outputs": [
        {
          "output_type": "execute_result",
          "data": {
            "text/plain": [
              "True"
            ]
          },
          "metadata": {},
          "execution_count": 83
        }
      ],
      "source": [
        "'20' in lista # verificar condición de si existe un elemento en la lista"
      ]
    },
    {
      "cell_type": "code",
      "execution_count": null,
      "metadata": {
        "id": "Rx_LYBoJSXDa",
        "colab": {
          "base_uri": "https://localhost:8080/"
        },
        "outputId": "e70348d4-8653-41d6-db3b-b6789ab39c72"
      },
      "outputs": [
        {
          "output_type": "execute_result",
          "data": {
            "text/plain": [
              "False"
            ]
          },
          "metadata": {},
          "execution_count": 84
        }
      ],
      "source": [
        "20 in lista # verificar condición de si existe un elemento en la lista"
      ]
    },
    {
      "cell_type": "code",
      "source": [
        "len('hola')"
      ],
      "metadata": {
        "colab": {
          "base_uri": "https://localhost:8080/"
        },
        "id": "L8cOukRNolY8",
        "outputId": "d70b21f9-ef39-4a75-ae2f-0b6ed3b9de7b"
      },
      "execution_count": null,
      "outputs": [
        {
          "output_type": "execute_result",
          "data": {
            "text/plain": [
              "4"
            ]
          },
          "metadata": {},
          "execution_count": 85
        }
      ]
    },
    {
      "cell_type": "code",
      "execution_count": null,
      "metadata": {
        "id": "Qu-SX8U_T8c2",
        "colab": {
          "base_uri": "https://localhost:8080/"
        },
        "outputId": "e02263d6-66d8-4ff4-ff2c-ac6c1374a13f"
      },
      "outputs": [
        {
          "output_type": "stream",
          "name": "stdout",
          "text": [
            "El tamaño de la lista es de: 6\n",
            "['2022', '08', '20', '489', '1', '18']\n"
          ]
        }
      ],
      "source": [
        "print('El tamaño de la lista es de:', len(lista)) # dimensiones de las listas\n",
        "print(lista)"
      ]
    },
    {
      "cell_type": "code",
      "execution_count": null,
      "metadata": {
        "id": "bl1pM1UYQFjy",
        "colab": {
          "base_uri": "https://localhost:8080/"
        },
        "outputId": "7b97a141-dbfe-4acb-c78a-8b8e87f77e34"
      },
      "outputs": [
        {
          "output_type": "stream",
          "name": "stdout",
          "text": [
            "['2022', '08', '20', 'Hoy', '489', '1', '18']\n"
          ]
        }
      ],
      "source": [
        "lista.insert(3,'Hoy') # metodo insert para agregar un elemento indicando una posicion\n",
        "print(lista)"
      ]
    },
    {
      "cell_type": "code",
      "execution_count": null,
      "metadata": {
        "id": "Isj2mNTfQImR",
        "colab": {
          "base_uri": "https://localhost:8080/"
        },
        "outputId": "9e669861-9b46-421a-8cbe-94074fba16f0"
      },
      "outputs": [
        {
          "output_type": "stream",
          "name": "stdout",
          "text": [
            "['2022', '08', '20', '489', '1', '18']\n"
          ]
        }
      ],
      "source": [
        "lista.remove('Hoy') # elimino elemento de la lista\n",
        "print(lista)"
      ]
    },
    {
      "cell_type": "code",
      "source": [
        "'18' in lista"
      ],
      "metadata": {
        "colab": {
          "base_uri": "https://localhost:8080/"
        },
        "id": "vc3JLXwco-8I",
        "outputId": "48b984d0-3b01-43ca-c8df-bab6eac8dccc"
      },
      "execution_count": null,
      "outputs": [
        {
          "output_type": "execute_result",
          "data": {
            "text/plain": [
              "True"
            ]
          },
          "metadata": {},
          "execution_count": 89
        }
      ]
    },
    {
      "cell_type": "code",
      "execution_count": null,
      "metadata": {
        "id": "sMJLE5oOSXDb",
        "colab": {
          "base_uri": "https://localhost:8080/"
        },
        "outputId": "dfd78a5a-92a8-4949-f9ac-bdde60d651a4"
      },
      "outputs": [
        {
          "output_type": "execute_result",
          "data": {
            "text/plain": [
              "5"
            ]
          },
          "metadata": {},
          "execution_count": 90
        }
      ],
      "source": [
        "lista.index('18') # cual es el indice/posicion del elemento buscado en la lista"
      ]
    },
    {
      "cell_type": "code",
      "source": [
        "lista[5]"
      ],
      "metadata": {
        "colab": {
          "base_uri": "https://localhost:8080/",
          "height": 35
        },
        "id": "aX8s3sb5opgd",
        "outputId": "3055515e-23be-49df-bfbf-5631014603a6"
      },
      "execution_count": null,
      "outputs": [
        {
          "output_type": "execute_result",
          "data": {
            "text/plain": [
              "'18'"
            ],
            "application/vnd.google.colaboratory.intrinsic+json": {
              "type": "string"
            }
          },
          "metadata": {},
          "execution_count": 91
        }
      ]
    },
    {
      "cell_type": "markdown",
      "metadata": {
        "id": "PKVwthpaIY-u"
      },
      "source": [
        "## Diccionarios"
      ]
    },
    {
      "cell_type": "markdown",
      "metadata": {
        "id": "1zvU2P8cNngy"
      },
      "source": [
        "Un diccionario es una colección no-ordenada de valores que son accedidos a traves de una clave"
      ]
    },
    {
      "cell_type": "code",
      "execution_count": null,
      "metadata": {
        "id": "nqwWIHXkIagn",
        "colab": {
          "base_uri": "https://localhost:8080/"
        },
        "outputId": "baffa8f8-c377-4a97-9010-755acb447333"
      },
      "outputs": [
        {
          "output_type": "stream",
          "name": "stdout",
          "text": [
            "<class 'dict'>\n",
            "{}\n"
          ]
        }
      ],
      "source": [
        "dicti = {}\n",
        "print(type(dicti))\n",
        "print(dicti)"
      ]
    },
    {
      "cell_type": "code",
      "execution_count": null,
      "metadata": {
        "colab": {
          "base_uri": "https://localhost:8080/"
        },
        "id": "LT8Y0ePNSXDb",
        "outputId": "62cea1db-59a0-45e1-9d35-008d736ee624"
      },
      "outputs": [
        {
          "output_type": "execute_result",
          "data": {
            "text/plain": [
              "{'Nombre': 'Omar', 'Apellido': 'Muñoz', 'Edad': 35}"
            ]
          },
          "metadata": {},
          "execution_count": 94
        }
      ],
      "source": [
        "# se definen a traves de combinaciones de clave y valor, separados por ':'\n",
        "dicti = {'Nombre': 'Omar', 'Apellido':'Muñoz', 'Edad':35}\n",
        "dicti"
      ]
    },
    {
      "cell_type": "code",
      "source": [
        "dicti['Nombre']"
      ],
      "metadata": {
        "colab": {
          "base_uri": "https://localhost:8080/",
          "height": 35
        },
        "id": "DR-3lB3RrxLE",
        "outputId": "cbc4b45c-641d-4fed-de3d-3785aa2c41d0"
      },
      "execution_count": null,
      "outputs": [
        {
          "output_type": "execute_result",
          "data": {
            "text/plain": [
              "'Omar'"
            ],
            "application/vnd.google.colaboratory.intrinsic+json": {
              "type": "string"
            }
          },
          "metadata": {},
          "execution_count": 95
        }
      ]
    },
    {
      "cell_type": "code",
      "source": [
        "dicti['Apellido']"
      ],
      "metadata": {
        "colab": {
          "base_uri": "https://localhost:8080/",
          "height": 35
        },
        "id": "wS8yWc5Spmb8",
        "outputId": "2485663a-9b6a-47c5-e198-8ed028f88293"
      },
      "execution_count": null,
      "outputs": [
        {
          "output_type": "execute_result",
          "data": {
            "text/plain": [
              "'Muñoz'"
            ],
            "application/vnd.google.colaboratory.intrinsic+json": {
              "type": "string"
            }
          },
          "metadata": {},
          "execution_count": 96
        }
      ]
    },
    {
      "cell_type": "code",
      "source": [
        "dicti['Edad']"
      ],
      "metadata": {
        "colab": {
          "base_uri": "https://localhost:8080/"
        },
        "id": "M5YubSshr3aL",
        "outputId": "b517f6f9-53ac-424c-e84b-9d182317fc9a"
      },
      "execution_count": null,
      "outputs": [
        {
          "output_type": "execute_result",
          "data": {
            "text/plain": [
              "35"
            ]
          },
          "metadata": {},
          "execution_count": 97
        }
      ]
    },
    {
      "cell_type": "markdown",
      "metadata": {
        "id": "dxyWQi8EUSyl"
      },
      "source": [
        "## Operaciones de condición"
      ]
    },
    {
      "cell_type": "markdown",
      "metadata": {
        "id": "LQvS7UxASXDb"
      },
      "source": [
        "Operadores de condición\n",
        "\n",
        "* menor <\n",
        "* menor o igual <=\n",
        "* mayor >\n",
        "* mayor o igual >=\n",
        "* igual ==\n",
        "* diferente !="
      ]
    },
    {
      "cell_type": "code",
      "execution_count": null,
      "metadata": {
        "id": "j5zgBmg7UChI",
        "colab": {
          "base_uri": "https://localhost:8080/"
        },
        "outputId": "cba407b0-96d9-49f3-b035-a34bf79ff892"
      },
      "outputs": [
        {
          "output_type": "stream",
          "name": "stdout",
          "text": [
            "False\n",
            "False\n",
            "True\n",
            "True\n"
          ]
        }
      ],
      "source": [
        "var = 50 # uso = para asignar\n",
        "\n",
        "# Estas operaciones retornan True o False, dependiendo de si se cumple o no la condición\n",
        "print(var < 20)\n",
        "print(var == 20)\n",
        "print(var > 20)\n",
        "print(var != 20)"
      ]
    },
    {
      "cell_type": "code",
      "source": [
        "'hola' == 'HOLA'"
      ],
      "metadata": {
        "id": "__3-9RgGjvwy",
        "colab": {
          "base_uri": "https://localhost:8080/"
        },
        "outputId": "770176a1-d218-4a43-8508-589bec6d6820"
      },
      "execution_count": null,
      "outputs": [
        {
          "output_type": "execute_result",
          "data": {
            "text/plain": [
              "False"
            ]
          },
          "metadata": {},
          "execution_count": 40
        }
      ]
    },
    {
      "cell_type": "code",
      "source": [
        "'hola' == ('HOLA').lower()"
      ],
      "metadata": {
        "id": "Qtz8dAn0j1i_",
        "colab": {
          "base_uri": "https://localhost:8080/"
        },
        "outputId": "03920844-9df0-46d6-dee0-e7a44043a24a"
      },
      "execution_count": null,
      "outputs": [
        {
          "output_type": "execute_result",
          "data": {
            "text/plain": [
              "True"
            ]
          },
          "metadata": {},
          "execution_count": 41
        }
      ]
    },
    {
      "cell_type": "code",
      "source": [
        "('hola').upper() == 'HOLA'"
      ],
      "metadata": {
        "id": "Igfqzhaaj8kD",
        "colab": {
          "base_uri": "https://localhost:8080/"
        },
        "outputId": "cd29f546-995c-4d1c-f935-3c4029cacffd"
      },
      "execution_count": null,
      "outputs": [
        {
          "output_type": "execute_result",
          "data": {
            "text/plain": [
              "True"
            ]
          },
          "metadata": {},
          "execution_count": 42
        }
      ]
    },
    {
      "cell_type": "code",
      "source": [],
      "metadata": {
        "id": "-A3nax8-v1jo"
      },
      "execution_count": null,
      "outputs": []
    },
    {
      "cell_type": "markdown",
      "source": [
        "## Condicionales"
      ],
      "metadata": {
        "id": "UOkxHZgexU7t"
      }
    },
    {
      "cell_type": "markdown",
      "metadata": {
        "id": "DY-6Y03xSXDc"
      },
      "source": [
        "'If' nos permite ejecutar una tarea cuando se cumple una condición o varias"
      ]
    },
    {
      "cell_type": "code",
      "execution_count": null,
      "metadata": {
        "id": "qgbaBuPKSXDc",
        "colab": {
          "base_uri": "https://localhost:8080/"
        },
        "outputId": "74116b56-b504-4c4c-c872-66c04d4ce927"
      },
      "outputs": [
        {
          "output_type": "stream",
          "name": "stdout",
          "text": [
            "2 es menor a 20\n",
            "estoy dentro del if\n",
            "estoy fuera del if\n"
          ]
        }
      ],
      "source": [
        "var = 2\n",
        "if var < 20: # si var es menor a 20 entonces\n",
        "  print(var, 'es menor a 20') # imprimir esta línea\n",
        "  print('estoy dentro del if')\n",
        "print('estoy fuera del if')"
      ]
    },
    {
      "cell_type": "code",
      "source": [
        "texto = 'enos días'\n",
        "if texto.startswith('bu'):\n",
        "  print('el texto empieza con bu')"
      ],
      "metadata": {
        "id": "OssCsaZsvaXO"
      },
      "execution_count": null,
      "outputs": []
    },
    {
      "cell_type": "code",
      "source": [
        "lista_ejempl = [1,2,3,4]\n",
        "num = 4\n",
        "if num in lista_ejempl:\n",
        "  print('el', num, 'está en la lista')"
      ],
      "metadata": {
        "colab": {
          "base_uri": "https://localhost:8080/"
        },
        "id": "pMp3Pbzovq-X",
        "outputId": "b929bb3c-cba9-49f4-c0e6-6468835858d0"
      },
      "execution_count": null,
      "outputs": [
        {
          "output_type": "stream",
          "name": "stdout",
          "text": [
            "el 4 está en la lista\n"
          ]
        }
      ]
    },
    {
      "cell_type": "code",
      "execution_count": null,
      "metadata": {
        "id": "L1dubSxQSXDc",
        "colab": {
          "base_uri": "https://localhost:8080/"
        },
        "outputId": "13e639e0-0074-40c8-9730-d4f05696dfc6"
      },
      "outputs": [
        {
          "output_type": "stream",
          "name": "stdout",
          "text": [
            "20 no es menor a 20\n"
          ]
        }
      ],
      "source": [
        "var = 20\n",
        "if var < 20: # si var es menor a 20 entonces\n",
        "  print(var, 'es menor a 20') # imprimir esta línea\n",
        "else: # define que hacer en caso de que no se cumpla la condición\n",
        "  print(var, 'no es menor a 20')"
      ]
    },
    {
      "cell_type": "code",
      "execution_count": null,
      "metadata": {
        "id": "6DAc1lfNSXDc",
        "colab": {
          "base_uri": "https://localhost:8080/"
        },
        "outputId": "687787f6-bbeb-406f-a726-799ea2386554"
      },
      "outputs": [
        {
          "output_type": "stream",
          "name": "stdout",
          "text": [
            "12 es menor a 20\n"
          ]
        }
      ],
      "source": [
        "var = 12\n",
        "# Así se pueden poner más condiciones\n",
        "if var < 20: # si var es menor a 20 entonces\n",
        "  print(var, 'es menor a 20') # imprimir esta línea\n",
        "elif var > 20: # sino cumple la primera condición, mira la segunda\n",
        "  print(var, 'es mayor a 20')\n",
        "else: # define que hacer en caso de que no se cumpla ninguna condición\n",
        "  print('Es 20')"
      ]
    },
    {
      "cell_type": "code",
      "source": [
        "# MUTUAMENTE EXCLUYENTE\n",
        "var = 20\n",
        "if var < 20:\n",
        "    print(var, 'es menor a 20')\n",
        "elif var > 20:\n",
        "    print(var, 'es mayor a 20')\n",
        "elif var/20 == 1:\n",
        "    print('Es 20, caso 1')\n",
        "else:\n",
        "    print('Es 20, otro caso')"
      ],
      "metadata": {
        "id": "PALBy9JdyO07",
        "colab": {
          "base_uri": "https://localhost:8080/"
        },
        "outputId": "964dc402-c662-416a-b184-de09577434d5"
      },
      "execution_count": null,
      "outputs": [
        {
          "output_type": "stream",
          "name": "stdout",
          "text": [
            "Es 20, caso 1\n"
          ]
        }
      ]
    },
    {
      "cell_type": "code",
      "source": [
        "# EVALUA TODAS LAS CONDICIONES\n",
        "var = 12\n",
        "if var % 2 == 0:\n",
        "  print('es par')\n",
        "if var / 10 > 1:\n",
        "  print('es mayor a 10')"
      ],
      "metadata": {
        "id": "9EJnB4mlyyeA",
        "colab": {
          "base_uri": "https://localhost:8080/"
        },
        "outputId": "0d587255-4bdb-47a1-b2f0-a3e37fd9afc2"
      },
      "execution_count": null,
      "outputs": [
        {
          "output_type": "stream",
          "name": "stdout",
          "text": [
            "es par\n",
            "es mayor a 10\n"
          ]
        }
      ]
    },
    {
      "cell_type": "markdown",
      "metadata": {
        "id": "vC7X16TJVv_G"
      },
      "source": [
        "## Loops (Procesos repetitivos)"
      ]
    },
    {
      "cell_type": "code",
      "source": [
        "print(1)\n",
        "print(2)\n",
        "...\n",
        "print(10)"
      ],
      "metadata": {
        "id": "U0iJTk8-x9OQ"
      },
      "execution_count": null,
      "outputs": []
    },
    {
      "cell_type": "markdown",
      "metadata": {
        "id": "6A3rRmj6SXDc"
      },
      "source": [
        "**While** repite una tarea hasta que se cumpla una condición"
      ]
    },
    {
      "cell_type": "code",
      "source": [
        "j = 100\n",
        "while j > 20:\n",
        "  print(j)\n",
        "  j = j - 10"
      ],
      "metadata": {
        "colab": {
          "base_uri": "https://localhost:8080/"
        },
        "id": "f2bMN0tF8E5Y",
        "outputId": "b02fbe1c-d8ce-457b-9421-1dc8758421dc"
      },
      "execution_count": null,
      "outputs": [
        {
          "output_type": "stream",
          "name": "stdout",
          "text": [
            "100\n",
            "90\n",
            "80\n",
            "70\n",
            "60\n",
            "50\n",
            "40\n",
            "30\n"
          ]
        }
      ]
    },
    {
      "cell_type": "code",
      "source": [
        "# SIEMPRE ES NECESARIO ESTAR SEGURO DE QUE SE PUEDE CUMPLIR LA CONDICIÓN\n",
        "j = 100\n",
        "while j > 20:\n",
        "  print(j)\n",
        "  j = j + 10"
      ],
      "metadata": {
        "id": "Xi9cHlbm8jy4"
      },
      "execution_count": null,
      "outputs": []
    },
    {
      "cell_type": "code",
      "execution_count": null,
      "metadata": {
        "id": "v1JoIc8uVf1B",
        "colab": {
          "base_uri": "https://localhost:8080/"
        },
        "outputId": "32a48ff9-5b04-470d-babd-ebd834d756f7"
      },
      "outputs": [
        {
          "output_type": "stream",
          "name": "stdout",
          "text": [
            "a\n",
            "b\n",
            "c\n",
            "d\n",
            "e\n",
            "f\n",
            "finalizó!\n"
          ]
        }
      ],
      "source": [
        "lista = ['a', 'b', 'c', 'd', 'e', 'f'] # creo una lista sobre la que quiero recorrer\n",
        "i = 0 # variable de control o de escape que inicia en cero # se desa que converja en algun momento\n",
        "while i < len(lista): # mientras se cumpla una condicion\n",
        "  print(lista[i]) # muestre en pantalla el elemento i de la lista\n",
        "  i = i + 1 # es lo mismo que escribir i = i + 1 # una instruccion para obligar a converger\n",
        "print('finalizó!')"
      ]
    },
    {
      "cell_type": "markdown",
      "source": [
        "**Operación de asignación:**\n",
        "\n",
        "cuando se usa el '+' se incrementa el valor de la variable\n",
        "\n",
        "cuando se usa el '-' se decrementa el valor de la variable\n",
        "\n",
        "\n",
        "`(i = i + 1)  == (i += 1)`"
      ],
      "metadata": {
        "id": "ah98z1h7uXL7"
      }
    },
    {
      "cell_type": "code",
      "source": [
        "j = 100\n",
        "while j > 10:\n",
        "  print(j)\n",
        "  j -= 5"
      ],
      "metadata": {
        "id": "LO109PHQuVp2",
        "colab": {
          "base_uri": "https://localhost:8080/"
        },
        "outputId": "0ca7ec95-7451-4a21-8b75-182685686daf"
      },
      "execution_count": null,
      "outputs": [
        {
          "output_type": "stream",
          "name": "stdout",
          "text": [
            "100\n",
            "95\n",
            "90\n",
            "85\n",
            "80\n",
            "75\n",
            "70\n",
            "65\n",
            "60\n",
            "55\n",
            "50\n",
            "45\n",
            "40\n",
            "35\n",
            "30\n",
            "25\n",
            "20\n",
            "15\n"
          ]
        }
      ]
    },
    {
      "cell_type": "markdown",
      "metadata": {
        "id": "sDxyo1hzSXDd"
      },
      "source": [
        "**For** repite una tarea una cantidad determinada de veces"
      ]
    },
    {
      "cell_type": "code",
      "source": [
        "lista = ['a', 'b', 'c', 'd', 'e', 'f']\n",
        "for elemento in lista: # for\n",
        "  print(elemento) # usando la posicion del elemento la lista"
      ],
      "metadata": {
        "colab": {
          "base_uri": "https://localhost:8080/"
        },
        "id": "YcyjwkIU4W4i",
        "outputId": "817c3e29-f150-4893-8179-12e688cf5b24"
      },
      "execution_count": null,
      "outputs": [
        {
          "output_type": "stream",
          "name": "stdout",
          "text": [
            "a\n",
            "b\n",
            "c\n",
            "d\n",
            "e\n",
            "f\n"
          ]
        }
      ]
    },
    {
      "cell_type": "code",
      "source": [
        "len(lista)"
      ],
      "metadata": {
        "colab": {
          "base_uri": "https://localhost:8080/"
        },
        "id": "Ic9tpzQK4sAb",
        "outputId": "7c8e22ea-2b37-4e07-8642-7aa5529fa0ea"
      },
      "execution_count": null,
      "outputs": [
        {
          "output_type": "execute_result",
          "data": {
            "text/plain": [
              "6"
            ]
          },
          "metadata": {},
          "execution_count": 139
        }
      ]
    },
    {
      "cell_type": "code",
      "source": [
        "for numero in range(2, 36, 3):\n",
        "  print(numero)"
      ],
      "metadata": {
        "colab": {
          "base_uri": "https://localhost:8080/"
        },
        "id": "jJciPcSA0OuH",
        "outputId": "2d72b8ee-1f1d-45bb-f855-4158449e0336"
      },
      "execution_count": null,
      "outputs": [
        {
          "output_type": "stream",
          "name": "stdout",
          "text": [
            "2\n",
            "5\n",
            "8\n",
            "11\n",
            "14\n",
            "17\n",
            "20\n",
            "23\n",
            "26\n",
            "29\n",
            "32\n",
            "35\n"
          ]
        }
      ]
    },
    {
      "cell_type": "code",
      "source": [
        "range(len(lista))"
      ],
      "metadata": {
        "id": "MxiV_ZZ6v1p0",
        "colab": {
          "base_uri": "https://localhost:8080/"
        },
        "outputId": "bfa79c79-219f-4313-b320-c8977234293c"
      },
      "execution_count": null,
      "outputs": [
        {
          "output_type": "execute_result",
          "data": {
            "text/plain": [
              "range(0, 6)"
            ]
          },
          "metadata": {},
          "execution_count": 141
        }
      ]
    },
    {
      "cell_type": "code",
      "source": [
        "lista[2]"
      ],
      "metadata": {
        "id": "i04hwhfY5-9F",
        "colab": {
          "base_uri": "https://localhost:8080/",
          "height": 35
        },
        "outputId": "f751740d-2d47-4e98-b367-593d6b6e4a7f"
      },
      "execution_count": null,
      "outputs": [
        {
          "output_type": "execute_result",
          "data": {
            "text/plain": [
              "'c'"
            ],
            "application/vnd.google.colaboratory.intrinsic+json": {
              "type": "string"
            }
          },
          "metadata": {},
          "execution_count": 142
        }
      ]
    },
    {
      "cell_type": "code",
      "source": [
        "lista = ['a', 'b', 'c', 'd', 'e', 'f']\n",
        "for i in range(len(lista)): # for\n",
        "  print(lista[i]) # usando la posicion del elemento la lista"
      ],
      "metadata": {
        "colab": {
          "base_uri": "https://localhost:8080/"
        },
        "id": "W70uWNM942uh",
        "outputId": "a3f26e60-73d4-4447-85f5-21e9196b4232"
      },
      "execution_count": null,
      "outputs": [
        {
          "output_type": "stream",
          "name": "stdout",
          "text": [
            "a\n",
            "b\n",
            "c\n",
            "d\n",
            "e\n",
            "f\n"
          ]
        }
      ]
    },
    {
      "cell_type": "code",
      "source": [
        "lista[:6]"
      ],
      "metadata": {
        "id": "bDaApzSj6LY5",
        "colab": {
          "base_uri": "https://localhost:8080/"
        },
        "outputId": "5e256676-e6c5-46cd-f92f-aee19b8fce4c"
      },
      "execution_count": null,
      "outputs": [
        {
          "output_type": "execute_result",
          "data": {
            "text/plain": [
              "['a', 'b', 'c', 'd', 'e', 'f']"
            ]
          },
          "metadata": {},
          "execution_count": 144
        }
      ]
    },
    {
      "cell_type": "code",
      "source": [
        "range(len(lista)+1)"
      ],
      "metadata": {
        "colab": {
          "base_uri": "https://localhost:8080/"
        },
        "id": "_g5itj4T0m7h",
        "outputId": "42d3a9e7-c5c7-4b75-f8d7-a9c7d8cfbd26"
      },
      "execution_count": null,
      "outputs": [
        {
          "output_type": "execute_result",
          "data": {
            "text/plain": [
              "range(0, 7)"
            ]
          },
          "metadata": {},
          "execution_count": 148
        }
      ]
    },
    {
      "cell_type": "code",
      "source": [
        "lista = ['a', 'b', 'c', 'd', 'e', 'f']\n",
        "for i in range(len(lista)+1): # for\n",
        "  print(lista[:i])"
      ],
      "metadata": {
        "colab": {
          "base_uri": "https://localhost:8080/"
        },
        "id": "zB--z0bd5HMR",
        "outputId": "55cf3610-5e4f-4dca-d3be-a18aad2441d0"
      },
      "execution_count": null,
      "outputs": [
        {
          "output_type": "stream",
          "name": "stdout",
          "text": [
            "[]\n",
            "['a']\n",
            "['a', 'b']\n",
            "['a', 'b', 'c']\n",
            "['a', 'b', 'c', 'd']\n",
            "['a', 'b', 'c', 'd', 'e']\n",
            "['a', 'b', 'c', 'd', 'e', 'f']\n"
          ]
        }
      ]
    },
    {
      "cell_type": "code",
      "source": [
        "for i in range(0, 1000, 25):\n",
        "  print(i)"
      ],
      "metadata": {
        "id": "p5FQZgEWwAjm",
        "colab": {
          "base_uri": "https://localhost:8080/"
        },
        "outputId": "a7a65b7f-942d-459e-a25e-0476627b05ff"
      },
      "execution_count": null,
      "outputs": [
        {
          "output_type": "stream",
          "name": "stdout",
          "text": [
            "0\n",
            "25\n",
            "50\n",
            "75\n",
            "100\n",
            "125\n",
            "150\n",
            "175\n",
            "200\n",
            "225\n",
            "250\n",
            "275\n",
            "300\n",
            "325\n",
            "350\n",
            "375\n",
            "400\n",
            "425\n",
            "450\n",
            "475\n",
            "500\n",
            "525\n",
            "550\n",
            "575\n",
            "600\n",
            "625\n",
            "650\n",
            "675\n",
            "700\n",
            "725\n",
            "750\n",
            "775\n",
            "800\n",
            "825\n",
            "850\n",
            "875\n",
            "900\n",
            "925\n",
            "950\n",
            "975\n"
          ]
        }
      ]
    },
    {
      "cell_type": "code",
      "source": [
        "lista = ['a', 'b', 'c', 'd', 'e', 'f']\n",
        "for i in range(len(lista)): # for\n",
        "  print('En la posición', i,  'tenemos el valor de', lista[i])"
      ],
      "metadata": {
        "id": "Bxyw477twUAO",
        "colab": {
          "base_uri": "https://localhost:8080/"
        },
        "outputId": "e7e5ffe8-a43b-4198-cae9-ea97f65e2ee6"
      },
      "execution_count": null,
      "outputs": [
        {
          "output_type": "stream",
          "name": "stdout",
          "text": [
            "En la posición 0 tenemos el valor de a\n",
            "En la posición 1 tenemos el valor de b\n",
            "En la posición 2 tenemos el valor de c\n",
            "En la posición 3 tenemos el valor de d\n",
            "En la posición 4 tenemos el valor de e\n",
            "En la posición 5 tenemos el valor de f\n"
          ]
        }
      ]
    },
    {
      "cell_type": "code",
      "execution_count": null,
      "metadata": {
        "id": "gebwNFYwSXDd",
        "colab": {
          "base_uri": "https://localhost:8080/"
        },
        "outputId": "771c403b-fd63-4637-e97a-33e777f1bc43"
      },
      "outputs": [
        {
          "output_type": "stream",
          "name": "stdout",
          "text": [
            "En la posición 0 tenemos el valor de a\n",
            "En la posición 1 tenemos el valor de b\n",
            "En la posición 2 tenemos el valor de c\n",
            "En la posición 3 tenemos el valor de d\n",
            "En la posición 4 tenemos el valor de e\n",
            "En la posición 5 tenemos el valor de f\n"
          ]
        }
      ],
      "source": [
        "lista = ['a', 'b', 'c', 'd', 'e', 'f']\n",
        "for i in range(len(lista)): # for\n",
        "  print('En la posición {} tenemos el valor de {}'.format(i, lista[i])) # usando la posicion del elemento la lista"
      ]
    },
    {
      "cell_type": "code",
      "source": [
        "lista = ['a', 'b', 'c', 'd', 'e', 'f']\n",
        "for i in range(len(lista)): # for\n",
        "  print(f'En la posición {i} tenemos el valor de {lista[i]}') # usando la posicion del elemento la lista"
      ],
      "metadata": {
        "colab": {
          "base_uri": "https://localhost:8080/"
        },
        "id": "Qmo989qu1Pk-",
        "outputId": "60e49ae3-2ddc-4de7-d782-547b03d2257a"
      },
      "execution_count": null,
      "outputs": [
        {
          "output_type": "stream",
          "name": "stdout",
          "text": [
            "En la posición 0 tenemos el valor de a\n",
            "En la posición 1 tenemos el valor de b\n",
            "En la posición 2 tenemos el valor de c\n",
            "En la posición 3 tenemos el valor de d\n",
            "En la posición 4 tenemos el valor de e\n",
            "En la posición 5 tenemos el valor de f\n"
          ]
        }
      ]
    },
    {
      "cell_type": "code",
      "execution_count": null,
      "metadata": {
        "id": "6ZOo98IPV65T",
        "colab": {
          "base_uri": "https://localhost:8080/"
        },
        "outputId": "e9845d29-1249-40e5-94b4-a2c1f52c7b08"
      },
      "outputs": [
        {
          "output_type": "stream",
          "name": "stdout",
          "text": [
            "2022\n",
            "08\n",
            "20\n"
          ]
        }
      ],
      "source": [
        "lista = ['2022', '08', '20']\n",
        "for element in lista: # for usando la información del elemento la lista\n",
        "  print(element)"
      ]
    },
    {
      "cell_type": "markdown",
      "metadata": {
        "id": "Zqdxm86VWRFP"
      },
      "source": [
        "## Funciones o Métodos"
      ]
    },
    {
      "cell_type": "markdown",
      "metadata": {
        "id": "ISgUansdRn2b"
      },
      "source": [
        "Definición de nuevas instrucciones que reciben parametros llamados argumentos.\n",
        "\n",
        "* La documentación de una función se coloca luego del encabezado de la función, en un párrafo encerrado entre tres comillas dobles \"\"\"\n"
      ]
    },
    {
      "cell_type": "code",
      "execution_count": null,
      "metadata": {
        "id": "nWJdxTr4SXDd"
      },
      "outputs": [],
      "source": [
        "def llegada_tarde(hora=int):\n",
        "  \"\"\"\n",
        "  se crea funcion para identificar si el alumno llega tarde a clase\n",
        "  variable hora debe ser numerica y corresponde a la hora de llegada del alumno\n",
        "  \"\"\"\n",
        "  if hora <= 5: # condicion inicial\n",
        "      revision = 'El alumno llegó a tiempo'\n",
        "  elif hora <= 9:\n",
        "      revision = 'El alumno llegó a clase tarde'\n",
        "  else:\n",
        "      revision = 'El alumno no llegó a clase'\n",
        "\n",
        "  return revision"
      ]
    },
    {
      "cell_type": "code",
      "source": [
        "llegada_tarde(10)"
      ],
      "metadata": {
        "colab": {
          "base_uri": "https://localhost:8080/",
          "height": 35
        },
        "id": "oVqVZ7GT3TAB",
        "outputId": "1d9c5a78-bd9a-4979-b0c2-c1cd97745f6a"
      },
      "execution_count": null,
      "outputs": [
        {
          "output_type": "execute_result",
          "data": {
            "text/plain": [
              "'El alumno no llegó a clase'"
            ],
            "application/vnd.google.colaboratory.intrinsic+json": {
              "type": "string"
            }
          },
          "metadata": {},
          "execution_count": 161
        }
      ]
    },
    {
      "cell_type": "code",
      "execution_count": null,
      "metadata": {
        "colab": {
          "base_uri": "https://localhost:8080/"
        },
        "id": "_C1BEe_rSXDe",
        "outputId": "cc9ee43b-893d-4d90-b6b2-2406c69921ed"
      },
      "outputs": [
        {
          "output_type": "stream",
          "name": "stdout",
          "text": [
            "El alumno llegó a tiempo\n",
            "El alumno llegó a clase tarde\n",
            "El alumno no llegó a clase\n",
            "El alumno llegó a clase tarde\n",
            "El alumno llegó a clase tarde\n"
          ]
        }
      ],
      "source": [
        "# evaluar si el alumno llego a la clase de 6 a 9\n",
        "print(llegada_tarde(5))\n",
        "print(llegada_tarde(8))\n",
        "print(llegada_tarde(10))\n",
        "print(llegada_tarde(7))\n",
        "print(llegada_tarde(9))"
      ]
    },
    {
      "cell_type": "code",
      "source": [
        "def saludo():\n",
        "  print('Buenas tardes a todos!')"
      ],
      "metadata": {
        "id": "0Vvtlzg24Hkj"
      },
      "execution_count": null,
      "outputs": []
    },
    {
      "cell_type": "code",
      "source": [
        "saludo()"
      ],
      "metadata": {
        "id": "0O5G5p1c4Q0e",
        "colab": {
          "base_uri": "https://localhost:8080/"
        },
        "outputId": "73fab856-19ba-437b-e8b1-4f4451b83be4"
      },
      "execution_count": null,
      "outputs": [
        {
          "output_type": "stream",
          "name": "stdout",
          "text": [
            "Buenas tardes a todos!\n"
          ]
        }
      ]
    },
    {
      "cell_type": "code",
      "execution_count": null,
      "metadata": {
        "id": "zjYTVqA2SXDe"
      },
      "outputs": [],
      "source": [
        "def llegada_tarde_recargada(hora_alumno=int, hora_entrada=int, hora_salida=int):\n",
        "    \"\"\"\n",
        "    se crea funcion para identificar si el alumno llega tarde a clase\n",
        "    variable hora debe ser numerica y corresponde a la hora de llegada del alumno\n",
        "    variable hora entrada a clase debe ser numerica\n",
        "    variable hora salida a clase debe ser numerica\n",
        "    \"\"\"\n",
        "    if hora_alumno <= hora_entrada:\n",
        "        revision = 'El alumno llegó a tiempo'\n",
        "    elif hora_alumno <= hora_salida:\n",
        "        revision = 'El alumno llegó a clase tarde'\n",
        "    else:\n",
        "        revision = 'El alumno no llegó a clase'\n",
        "    return revision"
      ]
    },
    {
      "cell_type": "code",
      "execution_count": null,
      "metadata": {
        "id": "e5kbtYUfSXDe",
        "colab": {
          "base_uri": "https://localhost:8080/"
        },
        "outputId": "71af9947-1b58-4261-fade-3f58b0a9e093"
      },
      "outputs": [
        {
          "output_type": "stream",
          "name": "stdout",
          "text": [
            "El alumno llegó a clase tarde\n",
            "El alumno llegó a tiempo\n",
            "El alumno llegó a tiempo\n",
            "El alumno llegó a tiempo\n"
          ]
        }
      ],
      "source": [
        "# evaluar si el alumno llego a la clase en las horas debidas\n",
        "print(llegada_tarde_recargada(7,6,9))\n",
        "print(llegada_tarde_recargada(7,8,12))\n",
        "print(llegada_tarde_recargada(7,12,15))\n",
        "print(llegada_tarde_recargada(7,20,22))"
      ]
    },
    {
      "cell_type": "code",
      "source": [
        "llegada_tarde_recargada(hora_alumno=5, hora_entrada=5, hora_salida=9)"
      ],
      "metadata": {
        "colab": {
          "base_uri": "https://localhost:8080/",
          "height": 35
        },
        "id": "bsneGUdY4qcJ",
        "outputId": "2baffaef-2593-4935-babf-e274fc64eaaa"
      },
      "execution_count": null,
      "outputs": [
        {
          "output_type": "execute_result",
          "data": {
            "text/plain": [
              "'El alumno llegó a tiempo'"
            ],
            "application/vnd.google.colaboratory.intrinsic+json": {
              "type": "string"
            }
          },
          "metadata": {},
          "execution_count": 179
        }
      ]
    },
    {
      "cell_type": "code",
      "execution_count": null,
      "metadata": {
        "id": "JL2l5TBXWGAI"
      },
      "outputs": [],
      "source": [
        "def func_exp(x):\n",
        "  \"\"\" Aquí debe documentar la función. \"\"\"\n",
        "  y = x ** 2\n",
        "  return y"
      ]
    },
    {
      "cell_type": "code",
      "execution_count": null,
      "metadata": {
        "id": "XuJF4egh6RKe",
        "colab": {
          "base_uri": "https://localhost:8080/"
        },
        "outputId": "77fa1497-2be2-4acf-9114-ebb6d0d8ace7"
      },
      "outputs": [
        {
          "output_type": "execute_result",
          "data": {
            "text/plain": [
              "625"
            ]
          },
          "metadata": {},
          "execution_count": 181
        }
      ],
      "source": [
        "func_exp(25)"
      ]
    },
    {
      "cell_type": "code",
      "execution_count": null,
      "metadata": {
        "id": "WBikvqhF4cNP"
      },
      "outputs": [],
      "source": [
        "def func_exp(x, exp):\n",
        "  \"\"\" Aquí debe documentar la función. \"\"\"\n",
        "  y = x ** exp\n",
        "  return y"
      ]
    },
    {
      "cell_type": "code",
      "execution_count": null,
      "metadata": {
        "id": "EATiXTwy6Zjz",
        "colab": {
          "base_uri": "https://localhost:8080/"
        },
        "outputId": "2ca3e880-7b88-468d-e78b-d3d46af12c2f"
      },
      "outputs": [
        {
          "output_type": "execute_result",
          "data": {
            "text/plain": [
              "64"
            ]
          },
          "metadata": {},
          "execution_count": 183
        }
      ],
      "source": [
        "func_exp(4,3) # 4 a la 3 = 4*4*4 = 64"
      ]
    },
    {
      "cell_type": "code",
      "execution_count": null,
      "metadata": {
        "id": "t0Ta1BSg4bsy"
      },
      "outputs": [],
      "source": [
        "# funciones anidades o funciones dentro de funciones\n",
        "def func_exp_texto(x, exp):\n",
        "  \"\"\" Aquí debe documentar la función. \"\"\"\n",
        "  y = func_exp(x, exp) # calculeme el resultado\n",
        "  txt = \"{} elevado a la {} es igual a {}.\".format(x, exp, y) # use las parametros de entrada y el resultado en una cadena de texto\n",
        "  return txt"
      ]
    },
    {
      "cell_type": "code",
      "execution_count": null,
      "metadata": {
        "id": "kEXecjloTRtV",
        "colab": {
          "base_uri": "https://localhost:8080/",
          "height": 35
        },
        "outputId": "41ec69a4-d6eb-42b7-a8a8-f87da32180ea"
      },
      "outputs": [
        {
          "output_type": "execute_result",
          "data": {
            "text/plain": [
              "'4 elevado a la 3 es igual a 64.'"
            ],
            "application/vnd.google.colaboratory.intrinsic+json": {
              "type": "string"
            }
          },
          "metadata": {},
          "execution_count": 185
        }
      ],
      "source": [
        "func_exp_texto(4,3)"
      ]
    },
    {
      "cell_type": "markdown",
      "source": [
        "# Librerias"
      ],
      "metadata": {
        "id": "DkvNuAi06FCY"
      }
    },
    {
      "cell_type": "code",
      "source": [
        "# instalar librerias\n",
        "!pip install pyod"
      ],
      "metadata": {
        "colab": {
          "base_uri": "https://localhost:8080/"
        },
        "id": "aHJvhvpG6Gav",
        "outputId": "ecc86b8e-bcf1-4a4b-b88f-da9586e88f3f"
      },
      "execution_count": null,
      "outputs": [
        {
          "output_type": "stream",
          "name": "stdout",
          "text": [
            "Collecting pyod\n",
            "  Downloading pyod-2.0.4.tar.gz (169 kB)\n",
            "\u001b[?25l     \u001b[90m━━━━━━━━━━━━━━━━━━━━━━━━━━━━━━━━━━━━━━━━\u001b[0m \u001b[32m0.0/169.7 kB\u001b[0m \u001b[31m?\u001b[0m eta \u001b[36m-:--:--\u001b[0m\r\u001b[2K     \u001b[91m━━━━━━━━━━━━━━━━━━━━━━━━━━\u001b[0m\u001b[91m╸\u001b[0m\u001b[90m━━━━━━━━━━━━━\u001b[0m \u001b[32m112.6/169.7 kB\u001b[0m \u001b[31m3.1 MB/s\u001b[0m eta \u001b[36m0:00:01\u001b[0m\r\u001b[2K     \u001b[90m━━━━━━━━━━━━━━━━━━━━━━━━━━━━━━━━━━━━━━━━\u001b[0m \u001b[32m169.7/169.7 kB\u001b[0m \u001b[31m3.3 MB/s\u001b[0m eta \u001b[36m0:00:00\u001b[0m\n",
            "\u001b[?25h  Preparing metadata (setup.py) ... \u001b[?25l\u001b[?25hdone\n",
            "Requirement already satisfied: joblib in /usr/local/lib/python3.11/dist-packages (from pyod) (1.4.2)\n",
            "Requirement already satisfied: matplotlib in /usr/local/lib/python3.11/dist-packages (from pyod) (3.10.0)\n",
            "Requirement already satisfied: numpy>=1.19 in /usr/local/lib/python3.11/dist-packages (from pyod) (2.0.2)\n",
            "Requirement already satisfied: numba>=0.51 in /usr/local/lib/python3.11/dist-packages (from pyod) (0.60.0)\n",
            "Requirement already satisfied: scipy>=1.5.1 in /usr/local/lib/python3.11/dist-packages (from pyod) (1.14.1)\n",
            "Requirement already satisfied: scikit-learn>=0.22.0 in /usr/local/lib/python3.11/dist-packages (from pyod) (1.6.1)\n",
            "Requirement already satisfied: llvmlite<0.44,>=0.43.0dev0 in /usr/local/lib/python3.11/dist-packages (from numba>=0.51->pyod) (0.43.0)\n",
            "Requirement already satisfied: threadpoolctl>=3.1.0 in /usr/local/lib/python3.11/dist-packages (from scikit-learn>=0.22.0->pyod) (3.6.0)\n",
            "Requirement already satisfied: contourpy>=1.0.1 in /usr/local/lib/python3.11/dist-packages (from matplotlib->pyod) (1.3.1)\n",
            "Requirement already satisfied: cycler>=0.10 in /usr/local/lib/python3.11/dist-packages (from matplotlib->pyod) (0.12.1)\n",
            "Requirement already satisfied: fonttools>=4.22.0 in /usr/local/lib/python3.11/dist-packages (from matplotlib->pyod) (4.57.0)\n",
            "Requirement already satisfied: kiwisolver>=1.3.1 in /usr/local/lib/python3.11/dist-packages (from matplotlib->pyod) (1.4.8)\n",
            "Requirement already satisfied: packaging>=20.0 in /usr/local/lib/python3.11/dist-packages (from matplotlib->pyod) (24.2)\n",
            "Requirement already satisfied: pillow>=8 in /usr/local/lib/python3.11/dist-packages (from matplotlib->pyod) (11.0.0)\n",
            "Requirement already satisfied: pyparsing>=2.3.1 in /usr/local/lib/python3.11/dist-packages (from matplotlib->pyod) (3.2.3)\n",
            "Requirement already satisfied: python-dateutil>=2.7 in /usr/local/lib/python3.11/dist-packages (from matplotlib->pyod) (2.8.2)\n",
            "Requirement already satisfied: six>=1.5 in /usr/local/lib/python3.11/dist-packages (from python-dateutil>=2.7->matplotlib->pyod) (1.17.0)\n",
            "Building wheels for collected packages: pyod\n",
            "  Building wheel for pyod (setup.py) ... \u001b[?25l\u001b[?25hdone\n",
            "  Created wheel for pyod: filename=pyod-2.0.4-py3-none-any.whl size=200479 sha256=5508b26ef2d310cebafc4c912acc8b05fdf982fd3fa41e0c13f578218afe651e\n",
            "  Stored in directory: /root/.cache/pip/wheels/cb/54/28/d02f62720600bc815c41219efedd0cb86889737fb5ea3c8f9a\n",
            "Successfully built pyod\n",
            "Installing collected packages: pyod\n",
            "Successfully installed pyod-2.0.4\n"
          ]
        }
      ]
    },
    {
      "cell_type": "code",
      "source": [
        "import pyod"
      ],
      "metadata": {
        "id": "FlrZPCry7AOZ"
      },
      "execution_count": null,
      "outputs": []
    },
    {
      "cell_type": "code",
      "source": [
        "pyod.models"
      ],
      "metadata": {
        "id": "muXs_EYH7DCS"
      },
      "execution_count": null,
      "outputs": []
    },
    {
      "cell_type": "markdown",
      "source": [
        "Librerias ciencia de datos:\n",
        "- pandas: se utiliza para procesar datos\n",
        "- numpy: operaciones vectoriales (raiz cuadrada, valor absoluto)\n",
        "- matplotlib o seaborn: gráficos\n",
        "- plotly: gráficos interactivos o dashboards\n",
        "- scikit-learn: modelos de ML\n",
        "- xgboost o lightbm: implementación de gradiente decendiente\n",
        "- Pytorch o Tensorflow: modelos de Deep learning o redes neuronales artificiales"
      ],
      "metadata": {
        "id": "5pNRo0N97iR2"
      }
    },
    {
      "cell_type": "code",
      "source": [
        "# colaboratory ya tiene librerias instaladas\n",
        "!pip list"
      ],
      "metadata": {
        "colab": {
          "base_uri": "https://localhost:8080/"
        },
        "id": "DvzCuXAr9KgO",
        "outputId": "1699456e-b298-48ac-8a11-477a9b30a21f"
      },
      "execution_count": null,
      "outputs": [
        {
          "output_type": "stream",
          "name": "stdout",
          "text": [
            "Package                            Version\n",
            "---------------------------------- -------------------\n",
            "absl-py                            1.4.0\n",
            "accelerate                         1.5.2\n",
            "aiohappyeyeballs                   2.6.1\n",
            "aiohttp                            3.11.15\n",
            "aiosignal                          1.3.2\n",
            "alabaster                          1.0.0\n",
            "albucore                           0.0.23\n",
            "albumentations                     2.0.5\n",
            "ale-py                             0.10.2\n",
            "altair                             5.5.0\n",
            "annotated-types                    0.7.0\n",
            "anyio                              4.9.0\n",
            "arcade                             3.1.0\n",
            "argon2-cffi                        23.1.0\n",
            "argon2-cffi-bindings               21.2.0\n",
            "array_record                       0.7.1\n",
            "arviz                              0.21.0\n",
            "astropy                            7.0.1\n",
            "astropy-iers-data                  0.2025.3.31.0.36.18\n",
            "astunparse                         1.6.3\n",
            "atpublic                           5.1\n",
            "attrs                              25.3.0\n",
            "audioread                          3.0.1\n",
            "autograd                           1.7.0\n",
            "babel                              2.17.0\n",
            "backcall                           0.2.0\n",
            "beautifulsoup4                     4.13.3\n",
            "betterproto                        2.0.0b6\n",
            "bigframes                          1.42.0\n",
            "bigquery-magics                    0.9.0\n",
            "bleach                             6.2.0\n",
            "blinker                            1.9.0\n",
            "blis                               1.2.1\n",
            "blosc2                             3.2.1\n",
            "bokeh                              3.6.3\n",
            "Bottleneck                         1.4.2\n",
            "bqplot                             0.12.44\n",
            "branca                             0.8.1\n",
            "CacheControl                       0.14.2\n",
            "cachetools                         5.5.2\n",
            "catalogue                          2.0.10\n",
            "certifi                            2025.1.31\n",
            "cffi                               1.17.1\n",
            "chardet                            5.2.0\n",
            "charset-normalizer                 3.4.1\n",
            "chex                               0.1.89\n",
            "clarabel                           0.10.0\n",
            "click                              8.1.8\n",
            "cloudpathlib                       0.21.0\n",
            "cloudpickle                        3.1.1\n",
            "cmake                              3.31.6\n",
            "cmdstanpy                          1.2.5\n",
            "colorcet                           3.1.0\n",
            "colorlover                         0.3.0\n",
            "colour                             0.1.5\n",
            "community                          1.0.0b1\n",
            "confection                         0.1.5\n",
            "cons                               0.4.6\n",
            "contourpy                          1.3.1\n",
            "cramjam                            2.9.1\n",
            "cryptography                       43.0.3\n",
            "cuda-python                        12.6.2.post1\n",
            "cudf-cu12                          25.2.1\n",
            "cudf-polars-cu12                   25.2.2\n",
            "cufflinks                          0.17.3\n",
            "cuml-cu12                          25.2.1\n",
            "cupy-cuda12x                       13.3.0\n",
            "cuvs-cu12                          25.2.1\n",
            "cvxopt                             1.3.2\n",
            "cvxpy                              1.6.4\n",
            "cycler                             0.12.1\n",
            "cyipopt                            1.5.0\n",
            "cymem                              2.0.11\n",
            "Cython                             3.0.12\n",
            "dask                               2024.12.1\n",
            "dask-cuda                          25.2.0\n",
            "dask-cudf-cu12                     25.2.2\n",
            "dask-expr                          1.1.21\n",
            "datascience                        0.17.6\n",
            "db-dtypes                          1.4.2\n",
            "dbus-python                        1.2.18\n",
            "debugpy                            1.8.0\n",
            "decorator                          4.4.2\n",
            "defusedxml                         0.7.1\n",
            "Deprecated                         1.2.18\n",
            "diffusers                          0.32.2\n",
            "distributed                        2024.12.1\n",
            "distributed-ucxx-cu12              0.42.0\n",
            "distro                             1.9.0\n",
            "dlib                               19.24.6\n",
            "dm-tree                            0.1.9\n",
            "docker-pycreds                     0.4.0\n",
            "docstring_parser                   0.16\n",
            "docutils                           0.21.2\n",
            "dopamine_rl                        4.1.2\n",
            "duckdb                             1.2.1\n",
            "earthengine-api                    1.5.9\n",
            "easydict                           1.13\n",
            "editdistance                       0.8.1\n",
            "eerepr                             0.1.1\n",
            "einops                             0.8.1\n",
            "en_core_web_sm                     3.8.0\n",
            "entrypoints                        0.4\n",
            "et_xmlfile                         2.0.0\n",
            "etils                              1.12.2\n",
            "etuples                            0.3.9\n",
            "Farama-Notifications               0.0.4\n",
            "fastai                             2.7.19\n",
            "fastcore                           1.7.29\n",
            "fastdownload                       0.0.7\n",
            "fastjsonschema                     2.21.1\n",
            "fastprogress                       1.0.3\n",
            "fastrlock                          0.8.3\n",
            "filelock                           3.18.0\n",
            "firebase-admin                     6.7.0\n",
            "Flask                              3.1.0\n",
            "flatbuffers                        25.2.10\n",
            "flax                               0.10.5\n",
            "folium                             0.19.5\n",
            "fonttools                          4.57.0\n",
            "frozendict                         2.4.6\n",
            "frozenlist                         1.5.0\n",
            "fsspec                             2025.3.2\n",
            "future                             1.0.0\n",
            "gast                               0.6.0\n",
            "gcsfs                              2025.3.2\n",
            "GDAL                               3.6.4\n",
            "gdown                              5.2.0\n",
            "geemap                             0.35.3\n",
            "geocoder                           1.38.1\n",
            "geographiclib                      2.0\n",
            "geopandas                          1.0.1\n",
            "geopy                              2.4.1\n",
            "gin-config                         0.5.0\n",
            "gitdb                              4.0.12\n",
            "GitPython                          3.1.44\n",
            "glob2                              0.7\n",
            "google                             2.0.3\n",
            "google-ai-generativelanguage       0.6.15\n",
            "google-api-core                    2.24.2\n",
            "google-api-python-client           2.164.0\n",
            "google-auth                        2.38.0\n",
            "google-auth-httplib2               0.2.0\n",
            "google-auth-oauthlib               1.2.1\n",
            "google-cloud-aiplatform            1.87.0\n",
            "google-cloud-bigquery              3.31.0\n",
            "google-cloud-bigquery-connection   1.18.2\n",
            "google-cloud-bigquery-storage      2.30.0\n",
            "google-cloud-bigtable              2.30.0\n",
            "google-cloud-core                  2.4.3\n",
            "google-cloud-dataproc              5.18.1\n",
            "google-cloud-datastore             2.20.2\n",
            "google-cloud-firestore             2.20.1\n",
            "google-cloud-functions             1.20.2\n",
            "google-cloud-iam                   2.18.3\n",
            "google-cloud-language              2.17.1\n",
            "google-cloud-pubsub                2.29.0\n",
            "google-cloud-resource-manager      1.14.2\n",
            "google-cloud-spanner               3.53.0\n",
            "google-cloud-storage               2.19.0\n",
            "google-cloud-translate             3.20.2\n",
            "google-colab                       1.0.0\n",
            "google-crc32c                      1.7.1\n",
            "google-genai                       1.9.0\n",
            "google-generativeai                0.8.4\n",
            "google-pasta                       0.2.0\n",
            "google-resumable-media             2.7.2\n",
            "google-spark-connect               0.5.2\n",
            "googleapis-common-protos           1.69.2\n",
            "googledrivedownloader              1.1.0\n",
            "graphviz                           0.20.3\n",
            "greenlet                           3.1.1\n",
            "grpc-google-iam-v1                 0.14.2\n",
            "grpc-interceptor                   0.15.4\n",
            "grpcio                             1.71.0\n",
            "grpcio-status                      1.71.0\n",
            "grpclib                            0.4.7\n",
            "gspread                            6.2.0\n",
            "gspread-dataframe                  4.0.0\n",
            "gym                                0.25.2\n",
            "gym-notices                        0.0.8\n",
            "gymnasium                          1.1.1\n",
            "h11                                0.14.0\n",
            "h2                                 4.2.0\n",
            "h5netcdf                           1.6.1\n",
            "h5py                               3.13.0\n",
            "hdbscan                            0.8.40\n",
            "highspy                            1.9.0\n",
            "holidays                           0.69\n",
            "holoviews                          1.20.2\n",
            "hpack                              4.1.0\n",
            "html5lib                           1.1\n",
            "httpcore                           1.0.7\n",
            "httpimport                         1.4.1\n",
            "httplib2                           0.22.0\n",
            "httpx                              0.28.1\n",
            "huggingface-hub                    0.30.1\n",
            "humanize                           4.12.2\n",
            "hyperframe                         6.1.0\n",
            "hyperopt                           0.2.7\n",
            "ibis-framework                     9.5.0\n",
            "idna                               3.10\n",
            "imageio                            2.37.0\n",
            "imageio-ffmpeg                     0.6.0\n",
            "imagesize                          1.4.1\n",
            "imbalanced-learn                   0.13.0\n",
            "immutabledict                      4.2.1\n",
            "importlib_metadata                 8.6.1\n",
            "importlib_resources                6.5.2\n",
            "imutils                            0.5.4\n",
            "inflect                            7.5.0\n",
            "iniconfig                          2.1.0\n",
            "intel-cmplr-lib-ur                 2025.1.0\n",
            "intel-openmp                       2025.1.0\n",
            "ipyevents                          2.0.2\n",
            "ipyfilechooser                     0.6.0\n",
            "ipykernel                          6.17.1\n",
            "ipyleaflet                         0.19.2\n",
            "ipyparallel                        8.8.0\n",
            "ipython                            7.34.0\n",
            "ipython-genutils                   0.2.0\n",
            "ipython-sql                        0.5.0\n",
            "ipytree                            0.2.2\n",
            "ipywidgets                         7.7.1\n",
            "itsdangerous                       2.2.0\n",
            "jax                                0.5.2\n",
            "jax-cuda12-pjrt                    0.5.1\n",
            "jax-cuda12-plugin                  0.5.1\n",
            "jaxlib                             0.5.1\n",
            "jeepney                            0.7.1\n",
            "jellyfish                          1.1.0\n",
            "jieba                              0.42.1\n",
            "Jinja2                             3.1.6\n",
            "jiter                              0.9.0\n",
            "joblib                             1.4.2\n",
            "jsonpatch                          1.33\n",
            "jsonpickle                         4.0.5\n",
            "jsonpointer                        3.0.0\n",
            "jsonschema                         4.23.0\n",
            "jsonschema-specifications          2024.10.1\n",
            "jupyter-client                     6.1.12\n",
            "jupyter-console                    6.1.0\n",
            "jupyter_core                       5.7.2\n",
            "jupyter-leaflet                    0.19.2\n",
            "jupyter-server                     1.16.0\n",
            "jupyterlab_pygments                0.3.0\n",
            "jupyterlab_widgets                 3.0.13\n",
            "kaggle                             1.7.4.2\n",
            "kagglehub                          0.3.11\n",
            "keras                              3.8.0\n",
            "keras-hub                          0.18.1\n",
            "keras-nlp                          0.18.1\n",
            "keyring                            23.5.0\n",
            "kiwisolver                         1.4.8\n",
            "langchain                          0.3.22\n",
            "langchain-core                     0.3.50\n",
            "langchain-text-splitters           0.3.7\n",
            "langcodes                          3.5.0\n",
            "langsmith                          0.3.23\n",
            "language_data                      1.3.0\n",
            "launchpadlib                       1.10.16\n",
            "lazr.restfulclient                 0.14.4\n",
            "lazr.uri                           1.0.6\n",
            "lazy_loader                        0.4\n",
            "libclang                           18.1.1\n",
            "libcudf-cu12                       25.2.1\n",
            "libcugraph-cu12                    25.2.0\n",
            "libcuml-cu12                       25.2.1\n",
            "libcuvs-cu12                       25.2.1\n",
            "libkvikio-cu12                     25.2.1\n",
            "libraft-cu12                       25.2.0\n",
            "librosa                            0.11.0\n",
            "libucx-cu12                        1.18.0\n",
            "libucxx-cu12                       0.42.0\n",
            "lightgbm                           4.5.0\n",
            "linkify-it-py                      2.0.3\n",
            "llvmlite                           0.43.0\n",
            "locket                             1.0.0\n",
            "logical-unification                0.4.6\n",
            "lxml                               5.3.1\n",
            "Mako                               1.1.3\n",
            "marisa-trie                        1.2.1\n",
            "Markdown                           3.7\n",
            "markdown-it-py                     3.0.0\n",
            "MarkupSafe                         3.0.2\n",
            "matplotlib                         3.10.0\n",
            "matplotlib-inline                  0.1.7\n",
            "matplotlib-venn                    1.1.2\n",
            "mdit-py-plugins                    0.4.2\n",
            "mdurl                              0.1.2\n",
            "miniKanren                         1.0.3\n",
            "missingno                          0.5.2\n",
            "mistune                            3.1.3\n",
            "mizani                             0.13.2\n",
            "mkl                                2025.0.1\n",
            "ml-dtypes                          0.4.1\n",
            "mlxtend                            0.23.4\n",
            "more-itertools                     10.6.0\n",
            "moviepy                            1.0.3\n",
            "mpmath                             1.3.0\n",
            "msgpack                            1.1.0\n",
            "multidict                          6.2.0\n",
            "multipledispatch                   1.0.0\n",
            "multitasking                       0.0.11\n",
            "murmurhash                         1.0.12\n",
            "music21                            9.3.0\n",
            "namex                              0.0.8\n",
            "narwhals                           1.33.0\n",
            "natsort                            8.4.0\n",
            "nbclassic                          1.2.0\n",
            "nbclient                           0.10.2\n",
            "nbconvert                          7.16.6\n",
            "nbformat                           5.10.4\n",
            "ndindex                            1.9.2\n",
            "nest-asyncio                       1.6.0\n",
            "networkx                           3.4.2\n",
            "nibabel                            5.3.2\n",
            "nltk                               3.9.1\n",
            "notebook                           6.5.7\n",
            "notebook_shim                      0.2.4\n",
            "numba                              0.60.0\n",
            "numba-cuda                         0.2.0\n",
            "numexpr                            2.10.2\n",
            "numpy                              2.0.2\n",
            "nvidia-cublas-cu12                 12.5.3.2\n",
            "nvidia-cuda-cupti-cu12             12.5.82\n",
            "nvidia-cuda-nvcc-cu12              12.5.82\n",
            "nvidia-cuda-nvrtc-cu12             12.5.82\n",
            "nvidia-cuda-runtime-cu12           12.5.82\n",
            "nvidia-cudnn-cu12                  9.3.0.75\n",
            "nvidia-cufft-cu12                  11.2.3.61\n",
            "nvidia-curand-cu12                 10.3.6.82\n",
            "nvidia-cusolver-cu12               11.6.3.83\n",
            "nvidia-cusparse-cu12               12.5.1.3\n",
            "nvidia-cusparselt-cu12             0.6.2\n",
            "nvidia-ml-py                       12.570.86\n",
            "nvidia-nccl-cu12                   2.21.5\n",
            "nvidia-nvcomp-cu12                 4.2.0.11\n",
            "nvidia-nvjitlink-cu12              12.5.82\n",
            "nvidia-nvtx-cu12                   12.4.127\n",
            "nvtx                               0.2.11\n",
            "nx-cugraph-cu12                    25.2.0\n",
            "oauth2client                       4.1.3\n",
            "oauthlib                           3.2.2\n",
            "openai                             1.70.0\n",
            "opencv-contrib-python              4.11.0.86\n",
            "opencv-python                      4.11.0.86\n",
            "opencv-python-headless             4.11.0.86\n",
            "openpyxl                           3.1.5\n",
            "opentelemetry-api                  1.31.1\n",
            "opentelemetry-sdk                  1.31.1\n",
            "opentelemetry-semantic-conventions 0.52b1\n",
            "opt_einsum                         3.4.0\n",
            "optax                              0.2.4\n",
            "optree                             0.14.1\n",
            "orbax-checkpoint                   0.11.10\n",
            "orjson                             3.10.16\n",
            "osqp                               1.0.3\n",
            "packaging                          24.2\n",
            "pandas                             2.2.2\n",
            "pandas-datareader                  0.10.0\n",
            "pandas-gbq                         0.28.0\n",
            "pandas-stubs                       2.2.2.240909\n",
            "pandocfilters                      1.5.1\n",
            "panel                              1.6.2\n",
            "param                              2.2.0\n",
            "parso                              0.8.4\n",
            "parsy                              2.1\n",
            "partd                              1.4.2\n",
            "pathlib                            1.0.1\n",
            "patsy                              1.0.1\n",
            "peewee                             3.17.9\n",
            "peft                               0.14.0\n",
            "pexpect                            4.9.0\n",
            "pickleshare                        0.7.5\n",
            "pillow                             11.0.0\n",
            "pip                                24.1.2\n",
            "platformdirs                       4.3.7\n",
            "plotly                             5.24.1\n",
            "plotnine                           0.14.5\n",
            "pluggy                             1.5.0\n",
            "ply                                3.11\n",
            "polars                             1.21.0\n",
            "pooch                              1.8.2\n",
            "portpicker                         1.5.2\n",
            "preshed                            3.0.9\n",
            "prettytable                        3.16.0\n",
            "proglog                            0.1.11\n",
            "progressbar2                       4.5.0\n",
            "prometheus_client                  0.21.1\n",
            "promise                            2.3\n",
            "prompt_toolkit                     3.0.50\n",
            "propcache                          0.3.1\n",
            "prophet                            1.1.6\n",
            "proto-plus                         1.26.1\n",
            "protobuf                           5.29.4\n",
            "psutil                             5.9.5\n",
            "psycopg2                           2.9.10\n",
            "ptyprocess                         0.7.0\n",
            "py-cpuinfo                         9.0.0\n",
            "py4j                               0.10.9.7\n",
            "pyarrow                            18.1.0\n",
            "pyasn1                             0.6.1\n",
            "pyasn1_modules                     0.4.2\n",
            "pycairo                            1.27.0\n",
            "pycocotools                        2.0.8\n",
            "pycparser                          2.22\n",
            "pydantic                           2.11.2\n",
            "pydantic_core                      2.33.1\n",
            "pydata-google-auth                 1.9.1\n",
            "pydot                              3.0.4\n",
            "pydotplus                          2.0.2\n",
            "PyDrive                            1.3.1\n",
            "PyDrive2                           1.21.3\n",
            "pyerfa                             2.0.1.5\n",
            "pygame                             2.6.1\n",
            "pygit2                             1.17.0\n",
            "pyglet                             2.1.3\n",
            "Pygments                           2.18.0\n",
            "PyGObject                          3.42.0\n",
            "PyJWT                              2.10.1\n",
            "pylibcudf-cu12                     25.2.1\n",
            "pylibcugraph-cu12                  25.2.0\n",
            "pylibraft-cu12                     25.2.0\n",
            "pymc                               5.21.2\n",
            "pymunk                             6.9.0\n",
            "pymystem3                          0.2.0\n",
            "pynndescent                        0.5.13\n",
            "pynvjitlink-cu12                   0.5.2\n",
            "pynvml                             12.0.0\n",
            "pyod                               2.0.4\n",
            "pyogrio                            0.10.0\n",
            "Pyomo                              6.8.2\n",
            "PyOpenGL                           3.1.9\n",
            "pyOpenSSL                          24.2.1\n",
            "pyparsing                          3.2.3\n",
            "pyperclip                          1.9.0\n",
            "pyproj                             3.7.1\n",
            "pyshp                              2.3.1\n",
            "PySocks                            1.7.1\n",
            "pyspark                            3.5.5\n",
            "pytensor                           2.30.2\n",
            "pytest                             8.3.5\n",
            "python-apt                         0.0.0\n",
            "python-box                         7.3.2\n",
            "python-dateutil                    2.8.2\n",
            "python-louvain                     0.16\n",
            "python-slugify                     8.0.4\n",
            "python-snappy                      0.7.3\n",
            "python-utils                       3.9.1\n",
            "pytiled_parser                     2.2.9\n",
            "pytz                               2025.2\n",
            "pyviz_comms                        3.0.4\n",
            "PyYAML                             6.0.2\n",
            "pyzmq                              24.0.1\n",
            "raft-dask-cu12                     25.2.0\n",
            "rapids-dask-dependency             25.2.0\n",
            "ratelim                            0.1.6\n",
            "referencing                        0.36.2\n",
            "regex                              2024.11.6\n",
            "requests                           2.32.3\n",
            "requests-oauthlib                  2.0.0\n",
            "requests-toolbelt                  1.0.0\n",
            "requirements-parser                0.9.0\n",
            "rich                               13.9.4\n",
            "rmm-cu12                           25.2.0\n",
            "roman-numerals-py                  3.1.0\n",
            "rpds-py                            0.24.0\n",
            "rpy2                               3.5.17\n",
            "rsa                                4.9\n",
            "safetensors                        0.5.3\n",
            "scikit-image                       0.25.2\n",
            "scikit-learn                       1.6.1\n",
            "scipy                              1.14.1\n",
            "scooby                             0.10.0\n",
            "scs                                3.2.7.post2\n",
            "seaborn                            0.13.2\n",
            "SecretStorage                      3.3.1\n",
            "Send2Trash                         1.8.3\n",
            "sentence-transformers              3.4.1\n",
            "sentencepiece                      0.2.0\n",
            "sentry-sdk                         2.25.1\n",
            "setproctitle                       1.3.5\n",
            "setuptools                         75.2.0\n",
            "shap                               0.47.1\n",
            "shapely                            2.1.0\n",
            "shellingham                        1.5.4\n",
            "simple-parsing                     0.1.7\n",
            "simplejson                         3.20.1\n",
            "simsimd                            6.2.1\n",
            "six                                1.17.0\n",
            "sklearn-compat                     0.1.3\n",
            "sklearn-pandas                     2.2.0\n",
            "slicer                             0.0.8\n",
            "smart-open                         7.1.0\n",
            "smmap                              5.0.2\n",
            "sniffio                            1.3.1\n",
            "snowballstemmer                    2.2.0\n",
            "sortedcontainers                   2.4.0\n",
            "soundfile                          0.13.1\n",
            "soupsieve                          2.6\n",
            "soxr                               0.5.0.post1\n",
            "spacy                              3.8.5\n",
            "spacy-legacy                       3.0.12\n",
            "spacy-loggers                      1.0.5\n",
            "spanner-graph-notebook             1.1.6\n",
            "Sphinx                             8.2.3\n",
            "sphinxcontrib-applehelp            2.0.0\n",
            "sphinxcontrib-devhelp              2.0.0\n",
            "sphinxcontrib-htmlhelp             2.1.0\n",
            "sphinxcontrib-jsmath               1.0.1\n",
            "sphinxcontrib-qthelp               2.0.0\n",
            "sphinxcontrib-serializinghtml      2.0.0\n",
            "SQLAlchemy                         2.0.40\n",
            "sqlglot                            25.20.2\n",
            "sqlparse                           0.5.3\n",
            "srsly                              2.5.1\n",
            "stanio                             0.5.1\n",
            "statsmodels                        0.14.4\n",
            "stringzilla                        3.12.3\n",
            "sympy                              1.13.1\n",
            "tables                             3.10.2\n",
            "tabulate                           0.9.0\n",
            "tbb                                2022.1.0\n",
            "tblib                              3.1.0\n",
            "tcmlib                             1.3.0\n",
            "tenacity                           9.1.2\n",
            "tensorboard                        2.18.0\n",
            "tensorboard-data-server            0.7.2\n",
            "tensorflow                         2.18.0\n",
            "tensorflow-datasets                4.9.8\n",
            "tensorflow-hub                     0.16.1\n",
            "tensorflow-io-gcs-filesystem       0.37.1\n",
            "tensorflow-metadata                1.17.0\n",
            "tensorflow-probability             0.25.0\n",
            "tensorflow-text                    2.18.1\n",
            "tensorstore                        0.1.73\n",
            "termcolor                          3.0.1\n",
            "terminado                          0.18.1\n",
            "text-unidecode                     1.3\n",
            "textblob                           0.19.0\n",
            "tf_keras                           2.18.0\n",
            "tf-slim                            1.1.0\n",
            "thinc                              8.3.4\n",
            "threadpoolctl                      3.6.0\n",
            "tifffile                           2025.3.30\n",
            "timm                               1.0.15\n",
            "tinycss2                           1.4.0\n",
            "tokenizers                         0.21.1\n",
            "toml                               0.10.2\n",
            "toolz                              0.12.1\n",
            "torch                              2.6.0+cu124\n",
            "torchaudio                         2.6.0+cu124\n",
            "torchsummary                       1.5.1\n",
            "torchvision                        0.21.0+cu124\n",
            "tornado                            6.4.2\n",
            "tqdm                               4.67.1\n",
            "traitlets                          5.7.1\n",
            "traittypes                         0.2.1\n",
            "transformers                       4.50.3\n",
            "treelite                           4.4.1\n",
            "treescope                          0.1.9\n",
            "triton                             3.2.0\n",
            "tweepy                             4.15.0\n",
            "typeguard                          4.4.2\n",
            "typer                              0.15.2\n",
            "types-pytz                         2025.2.0.20250326\n",
            "types-setuptools                   78.1.0.20250329\n",
            "typing_extensions                  4.13.1\n",
            "typing-inspection                  0.4.0\n",
            "tzdata                             2025.2\n",
            "tzlocal                            5.3.1\n",
            "uc-micro-py                        1.0.3\n",
            "ucx-py-cu12                        0.42.0\n",
            "ucxx-cu12                          0.42.0\n",
            "umap-learn                         0.5.7\n",
            "umf                                0.10.0\n",
            "uritemplate                        4.1.1\n",
            "urllib3                            2.3.0\n",
            "vega-datasets                      0.9.0\n",
            "wadllib                            1.3.6\n",
            "wandb                              0.19.9\n",
            "wasabi                             1.1.3\n",
            "wcwidth                            0.2.13\n",
            "weasel                             0.4.1\n",
            "webcolors                          24.11.1\n",
            "webencodings                       0.5.1\n",
            "websocket-client                   1.8.0\n",
            "websockets                         15.0.1\n",
            "Werkzeug                           3.1.3\n",
            "wheel                              0.45.1\n",
            "widgetsnbextension                 3.6.10\n",
            "wordcloud                          1.9.4\n",
            "wrapt                              1.17.2\n",
            "xarray                             2025.1.2\n",
            "xarray-einstats                    0.8.0\n",
            "xgboost                            2.1.4\n",
            "xlrd                               2.0.1\n",
            "xyzservices                        2025.1.0\n",
            "yarl                               1.18.3\n",
            "yellowbrick                        1.5\n",
            "yfinance                           0.2.55\n",
            "zict                               3.0.0\n",
            "zipp                               3.21.0\n",
            "zstandard                          0.23.0\n"
          ]
        }
      ]
    },
    {
      "cell_type": "markdown",
      "metadata": {
        "id": "bAOwhfGMUIn6"
      },
      "source": [
        "## Errores y excepciones"
      ]
    },
    {
      "cell_type": "markdown",
      "metadata": {
        "id": "6mJtaWhoVN_I"
      },
      "source": [
        "Los errores de ejecución son llamados comúnmente excepciones. \\\n",
        "Durante la ejecución de un programa, si dentro de una función surge una excepción y la función no la maneja, la excepción se propaga hacia la función que la invocó, si esta otra tampoco la maneja, la excepción continua propagándose hasta llegar a la función inicial del programa y si esta tampoco la maneja se interrumpe la ejecución del programa"
      ]
    },
    {
      "cell_type": "code",
      "execution_count": null,
      "metadata": {
        "id": "Yw8oxx4oKw5P",
        "colab": {
          "base_uri": "https://localhost:8080/",
          "height": 198
        },
        "outputId": "acf23854-fd34-406d-c5d4-2c271eed4184"
      },
      "outputs": [
        {
          "output_type": "error",
          "ename": "ZeroDivisionError",
          "evalue": "division by zero",
          "traceback": [
            "\u001b[0;31m---------------------------------------------------------------------------\u001b[0m",
            "\u001b[0;31mZeroDivisionError\u001b[0m                         Traceback (most recent call last)",
            "\u001b[0;32m<ipython-input-191-f9b2a9670a22>\u001b[0m in \u001b[0;36m<cell line: 0>\u001b[0;34m()\u001b[0m\n\u001b[1;32m      1\u001b[0m \u001b[0mdividendo\u001b[0m \u001b[0;34m=\u001b[0m \u001b[0;36m5\u001b[0m\u001b[0;34m\u001b[0m\u001b[0;34m\u001b[0m\u001b[0m\n\u001b[1;32m      2\u001b[0m \u001b[0mdivisor\u001b[0m \u001b[0;34m=\u001b[0m \u001b[0;36m0\u001b[0m\u001b[0;34m\u001b[0m\u001b[0;34m\u001b[0m\u001b[0m\n\u001b[0;32m----> 3\u001b[0;31m \u001b[0mdividendo\u001b[0m \u001b[0;34m/\u001b[0m \u001b[0mdivisor\u001b[0m\u001b[0;34m\u001b[0m\u001b[0;34m\u001b[0m\u001b[0m\n\u001b[0m\u001b[1;32m      4\u001b[0m \u001b[0mprint\u001b[0m\u001b[0;34m(\u001b[0m\u001b[0;34m'hola'\u001b[0m\u001b[0;34m)\u001b[0m\u001b[0;34m\u001b[0m\u001b[0;34m\u001b[0m\u001b[0m\n",
            "\u001b[0;31mZeroDivisionError\u001b[0m: division by zero"
          ]
        }
      ],
      "source": [
        "dividendo = 5\n",
        "divisor = 0\n",
        "dividendo / divisor\n",
        "print('hola')"
      ]
    },
    {
      "cell_type": "code",
      "execution_count": null,
      "metadata": {
        "id": "aVlbPG3OUICP",
        "colab": {
          "base_uri": "https://localhost:8080/"
        },
        "outputId": "ad3176cd-bf7c-41b1-f88d-bee671652aeb"
      },
      "outputs": [
        {
          "output_type": "stream",
          "name": "stdout",
          "text": [
            "No se permite la división por cero\n"
          ]
        }
      ],
      "source": [
        "dividendo = 5\n",
        "divisor = 0\n",
        "\n",
        "try: # intente realizar...\n",
        "  cociente = dividendo / divisor\n",
        "  print(cociente)\n",
        "except: # en caso de no poder realizarlo, haga lo siguiente\n",
        "  print(\"No se permite la división por cero\")"
      ]
    },
    {
      "cell_type": "code",
      "source": [
        "txt = 'siete'"
      ],
      "metadata": {
        "id": "reJ8Et0u7-ye"
      },
      "execution_count": null,
      "outputs": []
    },
    {
      "cell_type": "code",
      "source": [
        "txt[0]"
      ],
      "metadata": {
        "id": "-pZ0Tf8C7_zA",
        "colab": {
          "base_uri": "https://localhost:8080/",
          "height": 35
        },
        "outputId": "032e785c-f549-488b-a5a1-1fdc8d6197be"
      },
      "execution_count": null,
      "outputs": [
        {
          "output_type": "execute_result",
          "data": {
            "text/plain": [
              "'s'"
            ],
            "application/vnd.google.colaboratory.intrinsic+json": {
              "type": "string"
            }
          },
          "metadata": {},
          "execution_count": 197
        }
      ]
    },
    {
      "cell_type": "code",
      "source": [
        "txt[2:]"
      ],
      "metadata": {
        "id": "FgvQ2d5V8Dad",
        "colab": {
          "base_uri": "https://localhost:8080/",
          "height": 35
        },
        "outputId": "8a82eac4-aab0-46c0-be12-34ba168737f1"
      },
      "execution_count": null,
      "outputs": [
        {
          "output_type": "execute_result",
          "data": {
            "text/plain": [
              "'ete'"
            ],
            "application/vnd.google.colaboratory.intrinsic+json": {
              "type": "string"
            }
          },
          "metadata": {},
          "execution_count": 198
        }
      ]
    },
    {
      "cell_type": "code",
      "execution_count": null,
      "metadata": {
        "id": "JgM-63QOSXDf",
        "colab": {
          "base_uri": "https://localhost:8080/",
          "height": 162
        },
        "outputId": "e0101ec9-1c40-45fe-e130-af6150b6304c"
      },
      "outputs": [
        {
          "output_type": "error",
          "ename": "IndexError",
          "evalue": "string index out of range",
          "traceback": [
            "\u001b[0;31m---------------------------------------------------------------------------\u001b[0m",
            "\u001b[0;31mIndexError\u001b[0m                                Traceback (most recent call last)",
            "\u001b[0;32m<ipython-input-199-ac1d2b363384>\u001b[0m in \u001b[0;36m<cell line: 0>\u001b[0;34m()\u001b[0m\n\u001b[1;32m      1\u001b[0m \u001b[0mtxt\u001b[0m \u001b[0;34m=\u001b[0m \u001b[0;34m'siete'\u001b[0m \u001b[0;31m# asigno un texto a una variable\u001b[0m\u001b[0;34m\u001b[0m\u001b[0;34m\u001b[0m\u001b[0m\n\u001b[0;32m----> 2\u001b[0;31m \u001b[0mprint\u001b[0m\u001b[0;34m(\u001b[0m\u001b[0mtxt\u001b[0m\u001b[0;34m[\u001b[0m\u001b[0;36m7\u001b[0m\u001b[0;34m]\u001b[0m\u001b[0;34m)\u001b[0m\u001b[0;34m\u001b[0m\u001b[0;34m\u001b[0m\u001b[0m\n\u001b[0m",
            "\u001b[0;31mIndexError\u001b[0m: string index out of range"
          ]
        }
      ],
      "source": [
        "txt = 'siete' # asigno un texto a una variable\n",
        "print(txt[7])"
      ]
    },
    {
      "cell_type": "code",
      "execution_count": null,
      "metadata": {
        "id": "3W55wnfLVZ1z",
        "colab": {
          "base_uri": "https://localhost:8080/"
        },
        "outputId": "a729f53b-d6d6-4902-b8d8-00bbde22b5c1"
      },
      "outputs": [
        {
          "output_type": "stream",
          "name": "stdout",
          "text": [
            "No existe el elemento buscado\n"
          ]
        }
      ],
      "source": [
        "txt = 'siete' # asigno un texto a una variable\n",
        "\n",
        "try: # intente realizar...\n",
        "  print(txt[7])\n",
        "except: # en caso de no poder realizarlo, haga lo siguiente\n",
        "  print(\"No existe el elemento buscado\")"
      ]
    },
    {
      "cell_type": "markdown",
      "metadata": {
        "id": "6Gh9sfak8kXq"
      },
      "source": [
        "## Bibliografía\n"
      ]
    },
    {
      "cell_type": "markdown",
      "metadata": {
        "id": "mOjNZPz7k4Ft"
      },
      "source": [
        "\n",
        "* (2022,Montenegro y Montenegro) Aprendizaje profundo. Diplomado de IA y AP.\n",
        "* BeginnersGuide. link :https://wiki.python.org/moin/BeginnersGuide/Programmers\n",
        "* Uniwebsidad. link :https://uniwebsidad.com/libros/algoritmos-python"
      ]
    }
  ],
  "metadata": {
    "colab": {
      "collapsed_sections": [
        "lWhYWwEGOnk5",
        "tHBtQEzCNKZ_",
        "fgB1EzfVNOZU",
        "FOJDvodhNShf",
        "PaUShapyNVAt",
        "KTW-t3_17QiB",
        "pBCamJX7QmNU",
        "PKVwthpaIY-u",
        "dxyWQi8EUSyl",
        "UOkxHZgexU7t",
        "vC7X16TJVv_G",
        "Zqdxm86VWRFP"
      ],
      "provenance": []
    },
    "kernelspec": {
      "display_name": "Python 3",
      "name": "python3"
    },
    "language_info": {
      "codemirror_mode": {
        "name": "ipython",
        "version": 3
      },
      "file_extension": ".py",
      "mimetype": "text/x-python",
      "name": "python",
      "nbconvert_exporter": "python",
      "pygments_lexer": "ipython3",
      "version": "3.9.12"
    }
  },
  "nbformat": 4,
  "nbformat_minor": 0
}